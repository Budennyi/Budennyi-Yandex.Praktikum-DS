{
 "cells": [
  {
   "cell_type": "markdown",
   "metadata": {
    "toc": true
   },
   "source": [
    "<h1>Содержание<span class=\"tocSkip\"></span></h1>\n",
    "<div class=\"toc\"><ul class=\"toc-item\"><li><span><a href=\"#Подготовка-данных\" data-toc-modified-id=\"Подготовка-данных-1\"><span class=\"toc-item-num\">1&nbsp;&nbsp;</span>Подготовка данных</a></span><ul class=\"toc-item\"><li><span><a href=\"#Изучение-данных\" data-toc-modified-id=\"Изучение-данных-1.1\"><span class=\"toc-item-num\">1.1&nbsp;&nbsp;</span>Изучение данных</a></span></li><li><span><a href=\"#Проверка-расчета-эффективности-обогащения\" data-toc-modified-id=\"Проверка-расчета-эффективности-обогащения-1.2\"><span class=\"toc-item-num\">1.2&nbsp;&nbsp;</span>Проверка расчета эффективности обогащения</a></span></li><li><span><a href=\"#Анализ-признаков,-недоступных-в-тестовой-выборке.\" data-toc-modified-id=\"Анализ-признаков,-недоступных-в-тестовой-выборке.-1.3\"><span class=\"toc-item-num\">1.3&nbsp;&nbsp;</span>Анализ признаков, недоступных в тестовой выборке.</a></span></li><li><span><a href=\"#Предобработка-данных.\" data-toc-modified-id=\"Предобработка-данных.-1.4\"><span class=\"toc-item-num\">1.4&nbsp;&nbsp;</span>Предобработка данных.</a></span><ul class=\"toc-item\"><li><span><a href=\"#Анализ-дупликатов\" data-toc-modified-id=\"Анализ-дупликатов-1.4.1\"><span class=\"toc-item-num\">1.4.1&nbsp;&nbsp;</span>Анализ дупликатов</a></span></li><li><span><a href=\"#Анализ-и-замена-пропусков\" data-toc-modified-id=\"Анализ-и-замена-пропусков-1.4.2\"><span class=\"toc-item-num\">1.4.2&nbsp;&nbsp;</span>Анализ и замена пропусков</a></span></li><li><span><a href=\"#Анализ-и-удаление-признаков\" data-toc-modified-id=\"Анализ-и-удаление-признаков-1.4.3\"><span class=\"toc-item-num\">1.4.3&nbsp;&nbsp;</span>Анализ и удаление признаков</a></span></li></ul></li></ul></li><li><span><a href=\"#Анализ-данных\" data-toc-modified-id=\"Анализ-данных-2\"><span class=\"toc-item-num\">2&nbsp;&nbsp;</span>Анализ данных</a></span><ul class=\"toc-item\"><li><span><a href=\"#Посмотрите,-как-меняется-концентрация-металлов-(Au,-Ag,-Pb)-на-различных-этапах-очистки.-Опишите-выводы.\" data-toc-modified-id=\"Посмотрите,-как-меняется-концентрация-металлов-(Au,-Ag,-Pb)-на-различных-этапах-очистки.-Опишите-выводы.-2.1\"><span class=\"toc-item-num\">2.1&nbsp;&nbsp;</span>Посмотрите, как меняется концентрация металлов (Au, Ag, Pb) на различных этапах очистки. Опишите выводы.</a></span></li><li><span><a href=\"#Сравните-распределения-размеров-гранул-сырья-на-обучающей-и-тестовой-выборках.-Если-распределения-сильно-отличаются-друг-от-друга,-оценка-модели-будет-неправильной.\" data-toc-modified-id=\"Сравните-распределения-размеров-гранул-сырья-на-обучающей-и-тестовой-выборках.-Если-распределения-сильно-отличаются-друг-от-друга,-оценка-модели-будет-неправильной.-2.2\"><span class=\"toc-item-num\">2.2&nbsp;&nbsp;</span>Сравните распределения размеров гранул сырья на обучающей и тестовой выборках. Если распределения сильно отличаются друг от друга, оценка модели будет неправильной.</a></span></li><li><span><a href=\"#Исследуйте-суммарную-концентрацию-всех-веществ-на-разных-стадиях:-в-сырье,-в-черновом-и-финальном-концентратах.\" data-toc-modified-id=\"Исследуйте-суммарную-концентрацию-всех-веществ-на-разных-стадиях:-в-сырье,-в-черновом-и-финальном-концентратах.-2.3\"><span class=\"toc-item-num\">2.3&nbsp;&nbsp;</span>Исследуйте суммарную концентрацию всех веществ на разных стадиях: в сырье, в черновом и финальном концентратах.</a></span></li></ul></li><li><span><a href=\"#Модель\" data-toc-modified-id=\"Модель-3\"><span class=\"toc-item-num\">3&nbsp;&nbsp;</span>Модель</a></span><ul class=\"toc-item\"><li><span><a href=\"#Напишите-функцию-для-вычисления-итоговой-sMAPE.\" data-toc-modified-id=\"Напишите-функцию-для-вычисления-итоговой-sMAPE.-3.1\"><span class=\"toc-item-num\">3.1&nbsp;&nbsp;</span>Напишите функцию для вычисления итоговой sMAPE.</a></span></li><li><span><a href=\"#Обучите-разные-модели-и-оцените-их-качество-кросс-валидацией.-Выберите-лучшую-модель-и-проверьте-её-на-тестовой-выборке.-Опишите-выводы.\" data-toc-modified-id=\"Обучите-разные-модели-и-оцените-их-качество-кросс-валидацией.-Выберите-лучшую-модель-и-проверьте-её-на-тестовой-выборке.-Опишите-выводы.-3.2\"><span class=\"toc-item-num\">3.2&nbsp;&nbsp;</span>Обучите разные модели и оцените их качество кросс-валидацией. Выберите лучшую модель и проверьте её на тестовой выборке. Опишите выводы.</a></span></li></ul></li><li><span><a href=\"#Вывод\" data-toc-modified-id=\"Вывод-4\"><span class=\"toc-item-num\">4&nbsp;&nbsp;</span>Вывод</a></span></li></ul></div>"
   ]
  },
  {
   "cell_type": "markdown",
   "metadata": {},
   "source": [
    "# Описание проекта"
   ]
  },
  {
   "cell_type": "markdown",
   "metadata": {},
   "source": [
    "Подготовьте прототип модели машинного обучения для «Цифры». Компания разрабатывает решения для эффективной работы промышленных предприятий.\n",
    "\n",
    "Модель должна предсказать коэффициент восстановления золота из золотосодержащей руды. Используйте данные с параметрами добычи и очистки. \n",
    "\n",
    "Модель поможет оптимизировать производство, чтобы не запускать предприятие с убыточными характеристиками.\n",
    "\n",
    "Вам нужно:\n",
    "\n",
    "1. Подготовить данные;\n",
    "2. Провести исследовательский анализ данных;\n",
    "3. Построить и обучить модель.\n",
    "\n",
    "Чтобы выполнить проект, обращайтесь к библиотекам *pandas*, *matplotlib* и *sklearn.* Вам поможет их документация."
   ]
  },
  {
   "cell_type": "markdown",
   "metadata": {},
   "source": [
    "# Описание данных\n",
    "**Технологический процесс**\n",
    "- Rougher feed — исходное сырье\n",
    "- Rougher additions (или reagent additions) — флотационные реагенты: Xanthate, Sulphate, Depressant\n",
    "    - Xanthate **— ксантогенат (промотер, или активатор флотации);\n",
    "    - Sulphate — сульфат (на данном производстве сульфид натрия);\n",
    "    - Depressant — депрессант (силикат натрия).\n",
    "- Rougher process (англ. «грубый процесс») — флотация\n",
    "- Rougher tails — отвальные хвосты\n",
    "- Float banks — флотационная установка\n",
    "- Cleaner process — очистка\n",
    "- Rougher Au — черновой концентрат золота\n",
    "- Final Au — финальный концентрат золота\n",
    "\n",
    "**Параметры этапов**\n",
    "- air amount — объём воздуха\n",
    "- fluid levels — уровень жидкости\n",
    "- feed size — размер гранул сырья\n",
    "- feed rate — скорость подачи"
   ]
  },
  {
   "cell_type": "markdown",
   "metadata": {},
   "source": [
    "# План проекта\n",
    "**1. Подготовьте данные**\n",
    "- 1.1. Откройте файлы и изучите их.\n",
    "- 1.2. Проверьте, что эффективность обогащения рассчитана правильно. \n",
    "        - Вычислите её на обучающей выборке для признака rougher.output.recovery.\n",
    "        - Найдите MAE между вашими расчётами и значением признака. Опишите выводы.\n",
    "- 1.3. Проанализируйте признаки, недоступные в тестовой выборке. Что это за параметры? К какому типу относятся?\n",
    "- 1.4. Проведите предобработку данных.\n",
    "- 1.5. Вывод\n",
    "\n",
    "**2. Проанализируйте данные**\n",
    "\n",
    "- 2.1. Посмотрите, как меняется концентрация металлов (Au, Ag, Pb) на различных этапах очистки. Опишите выводы.\n",
    "- 2.2. Сравните распределения размеров гранул сырья на обучающей и тестовой выборках. Если распределения сильно отличаются друг от друга, оценка модели будет неправильной.\n",
    "- 2.3. Исследуйте суммарную концентрацию всех веществ на разных стадиях: в сырье, в черновом и финальном концентратах.\n",
    "        - Заметили аномальные значения в суммарном распределении или нет?\n",
    "        - Если они есть, стоит ли их удалять из обеих выборок? Опишите выводы и удалите аномалии.\n",
    "\n",
    "**3. Постройте модель**\n",
    "\n",
    "- 3.1. Напишите функцию для вычисления итоговой sMAPE.\n",
    "- 3.2. Обучите разные модели и оцените их качество кросс-валидацией. Выберите лучшую модель и проверьте её на тестовой выборке. Опишите выводы.\n",
    "\n",
    "**4. Общий вывод**"
   ]
  },
  {
   "cell_type": "markdown",
   "metadata": {},
   "source": [
    "## Подготовка данных"
   ]
  },
  {
   "cell_type": "code",
   "execution_count": 1,
   "metadata": {},
   "outputs": [
    {
     "name": "stdout",
     "output_type": "stream",
     "text": [
      "Defaulting to user installation because normal site-packages is not writeable\n",
      "Requirement already up-to-date: scikit-learn in /home/jovyan/.local/lib/python3.7/site-packages (0.24.2)\n",
      "Requirement already satisfied, skipping upgrade: joblib>=0.11 in /opt/conda/lib/python3.7/site-packages (from scikit-learn) (1.0.1)\n",
      "Requirement already satisfied, skipping upgrade: numpy>=1.13.3 in /opt/conda/lib/python3.7/site-packages (from scikit-learn) (1.19.5)\n",
      "Requirement already satisfied, skipping upgrade: threadpoolctl>=2.0.0 in /home/jovyan/.local/lib/python3.7/site-packages (from scikit-learn) (2.1.0)\n",
      "Requirement already satisfied, skipping upgrade: scipy>=0.19.1 in /opt/conda/lib/python3.7/site-packages (from scikit-learn) (1.4.1)\n"
     ]
    }
   ],
   "source": [
    "! pip install -U scikit-learn"
   ]
  },
  {
   "cell_type": "code",
   "execution_count": 2,
   "metadata": {},
   "outputs": [
    {
     "name": "stdout",
     "output_type": "stream",
     "text": [
      "Defaulting to user installation because normal site-packages is not writeable\n",
      "Requirement already up-to-date: seaborn in /home/jovyan/.local/lib/python3.7/site-packages (0.11.1)\n",
      "Requirement already satisfied, skipping upgrade: pandas>=0.23 in /opt/conda/lib/python3.7/site-packages (from seaborn) (0.25.1)\n",
      "Requirement already satisfied, skipping upgrade: matplotlib>=2.2 in /opt/conda/lib/python3.7/site-packages (from seaborn) (3.1.0)\n",
      "Requirement already satisfied, skipping upgrade: scipy>=1.0 in /opt/conda/lib/python3.7/site-packages (from seaborn) (1.4.1)\n",
      "Requirement already satisfied, skipping upgrade: numpy>=1.15 in /opt/conda/lib/python3.7/site-packages (from seaborn) (1.19.5)\n",
      "Requirement already satisfied, skipping upgrade: pytz>=2017.2 in /opt/conda/lib/python3.7/site-packages (from pandas>=0.23->seaborn) (2021.1)\n",
      "Requirement already satisfied, skipping upgrade: python-dateutil>=2.6.1 in /opt/conda/lib/python3.7/site-packages (from pandas>=0.23->seaborn) (2.8.1)\n",
      "Requirement already satisfied, skipping upgrade: pyparsing!=2.0.4,!=2.1.2,!=2.1.6,>=2.0.1 in /opt/conda/lib/python3.7/site-packages (from matplotlib>=2.2->seaborn) (2.4.7)\n",
      "Requirement already satisfied, skipping upgrade: cycler>=0.10 in /opt/conda/lib/python3.7/site-packages (from matplotlib>=2.2->seaborn) (0.10.0)\n",
      "Requirement already satisfied, skipping upgrade: kiwisolver>=1.0.1 in /opt/conda/lib/python3.7/site-packages (from matplotlib>=2.2->seaborn) (1.3.1)\n",
      "Requirement already satisfied, skipping upgrade: six>=1.5 in /opt/conda/lib/python3.7/site-packages (from python-dateutil>=2.6.1->pandas>=0.23->seaborn) (1.15.0)\n",
      "Note: you may need to restart the kernel to use updated packages.\n"
     ]
    }
   ],
   "source": [
    "pip install -U seaborn"
   ]
  },
  {
   "cell_type": "code",
   "execution_count": 3,
   "metadata": {},
   "outputs": [],
   "source": [
    "#Импортируем необходимые библиотеки:\n",
    "import pandas as pd\n",
    "import numpy as np\n",
    "from scipy import stats as st\n",
    "from numpy.random import RandomState\n",
    "import math\n",
    "from scipy.stats import randint as randint\n",
    "\n",
    "#SKLearn (Классификаторы, Метрики и Прочее)\n",
    "from sklearn.linear_model import LinearRegression\n",
    "from sklearn.ensemble import RandomForestRegressor\n",
    "from sklearn.metrics import mean_absolute_error, mean_squared_error,make_scorer\n",
    "from sklearn.impute import KNNImputer\n",
    "from sklearn.model_selection import train_test_split, GridSearchCV, RandomizedSearchCV, cross_val_score\n",
    "from sklearn.preprocessing import StandardScaler\n",
    "from sklearn.pipeline import Pipeline\n",
    "from sklearn.base import BaseEstimator\n",
    "from sklearn.dummy import DummyRegressor\n",
    "\n",
    "#Визуализация\n",
    "import seaborn as sns\n",
    "import matplotlib.pyplot as plt\n",
    "\n",
    "#Прочее\n",
    "import warnings\n",
    "warnings.simplefilter(action='ignore', category=FutureWarning)"
   ]
  },
  {
   "cell_type": "markdown",
   "metadata": {},
   "source": [
    "### Изучение данных"
   ]
  },
  {
   "cell_type": "code",
   "execution_count": 4,
   "metadata": {},
   "outputs": [
    {
     "name": "stdout",
     "output_type": "stream",
     "text": [
      "(16860, 87)\n",
      "(5856, 53)\n",
      "(22716, 87)\n"
     ]
    }
   ],
   "source": [
    "data_train_raw = pd.read_csv('/datasets/gold_recovery_train.csv')\n",
    "data_test = pd.read_csv('/datasets/gold_recovery_test.csv')\n",
    "data_full = pd.read_csv('/datasets/gold_recovery_full.csv')\n",
    "\n",
    "print(data_train_raw.shape)\n",
    "print(data_test.shape)\n",
    "print(data_full.shape)"
   ]
  },
  {
   "cell_type": "code",
   "execution_count": 5,
   "metadata": {},
   "outputs": [
    {
     "name": "stdout",
     "output_type": "stream",
     "text": [
      "<class 'pandas.core.frame.DataFrame'>\n",
      "RangeIndex: 16860 entries, 0 to 16859\n",
      "Data columns (total 87 columns):\n",
      "date                                                  16860 non-null object\n",
      "final.output.concentrate_ag                           16788 non-null float64\n",
      "final.output.concentrate_pb                           16788 non-null float64\n",
      "final.output.concentrate_sol                          16490 non-null float64\n",
      "final.output.concentrate_au                           16789 non-null float64\n",
      "final.output.recovery                                 15339 non-null float64\n",
      "final.output.tail_ag                                  16794 non-null float64\n",
      "final.output.tail_pb                                  16677 non-null float64\n",
      "final.output.tail_sol                                 16715 non-null float64\n",
      "final.output.tail_au                                  16794 non-null float64\n",
      "primary_cleaner.input.sulfate                         15553 non-null float64\n",
      "primary_cleaner.input.depressant                      15598 non-null float64\n",
      "primary_cleaner.input.feed_size                       16860 non-null float64\n",
      "primary_cleaner.input.xanthate                        15875 non-null float64\n",
      "primary_cleaner.output.concentrate_ag                 16778 non-null float64\n",
      "primary_cleaner.output.concentrate_pb                 16502 non-null float64\n",
      "primary_cleaner.output.concentrate_sol                16224 non-null float64\n",
      "primary_cleaner.output.concentrate_au                 16778 non-null float64\n",
      "primary_cleaner.output.tail_ag                        16777 non-null float64\n",
      "primary_cleaner.output.tail_pb                        16761 non-null float64\n",
      "primary_cleaner.output.tail_sol                       16579 non-null float64\n",
      "primary_cleaner.output.tail_au                        16777 non-null float64\n",
      "primary_cleaner.state.floatbank8_a_air                16820 non-null float64\n",
      "primary_cleaner.state.floatbank8_a_level              16827 non-null float64\n",
      "primary_cleaner.state.floatbank8_b_air                16820 non-null float64\n",
      "primary_cleaner.state.floatbank8_b_level              16833 non-null float64\n",
      "primary_cleaner.state.floatbank8_c_air                16822 non-null float64\n",
      "primary_cleaner.state.floatbank8_c_level              16833 non-null float64\n",
      "primary_cleaner.state.floatbank8_d_air                16821 non-null float64\n",
      "primary_cleaner.state.floatbank8_d_level              16833 non-null float64\n",
      "rougher.calculation.sulfate_to_au_concentrate         16833 non-null float64\n",
      "rougher.calculation.floatbank10_sulfate_to_au_feed    16833 non-null float64\n",
      "rougher.calculation.floatbank11_sulfate_to_au_feed    16833 non-null float64\n",
      "rougher.calculation.au_pb_ratio                       15618 non-null float64\n",
      "rougher.input.feed_ag                                 16778 non-null float64\n",
      "rougher.input.feed_pb                                 16632 non-null float64\n",
      "rougher.input.feed_rate                               16347 non-null float64\n",
      "rougher.input.feed_size                               16443 non-null float64\n",
      "rougher.input.feed_sol                                16568 non-null float64\n",
      "rougher.input.feed_au                                 16777 non-null float64\n",
      "rougher.input.floatbank10_sulfate                     15816 non-null float64\n",
      "rougher.input.floatbank10_xanthate                    16514 non-null float64\n",
      "rougher.input.floatbank11_sulfate                     16237 non-null float64\n",
      "rougher.input.floatbank11_xanthate                    14956 non-null float64\n",
      "rougher.output.concentrate_ag                         16778 non-null float64\n",
      "rougher.output.concentrate_pb                         16778 non-null float64\n",
      "rougher.output.concentrate_sol                        16698 non-null float64\n",
      "rougher.output.concentrate_au                         16778 non-null float64\n",
      "rougher.output.recovery                               14287 non-null float64\n",
      "rougher.output.tail_ag                                14610 non-null float64\n",
      "rougher.output.tail_pb                                16778 non-null float64\n",
      "rougher.output.tail_sol                               14611 non-null float64\n",
      "rougher.output.tail_au                                14611 non-null float64\n",
      "rougher.state.floatbank10_a_air                       16807 non-null float64\n",
      "rougher.state.floatbank10_a_level                     16807 non-null float64\n",
      "rougher.state.floatbank10_b_air                       16807 non-null float64\n",
      "rougher.state.floatbank10_b_level                     16807 non-null float64\n",
      "rougher.state.floatbank10_c_air                       16807 non-null float64\n",
      "rougher.state.floatbank10_c_level                     16814 non-null float64\n",
      "rougher.state.floatbank10_d_air                       16802 non-null float64\n",
      "rougher.state.floatbank10_d_level                     16809 non-null float64\n",
      "rougher.state.floatbank10_e_air                       16257 non-null float64\n",
      "rougher.state.floatbank10_e_level                     16809 non-null float64\n",
      "rougher.state.floatbank10_f_air                       16802 non-null float64\n",
      "rougher.state.floatbank10_f_level                     16802 non-null float64\n",
      "secondary_cleaner.output.tail_ag                      16776 non-null float64\n",
      "secondary_cleaner.output.tail_pb                      16764 non-null float64\n",
      "secondary_cleaner.output.tail_sol                     14874 non-null float64\n",
      "secondary_cleaner.output.tail_au                      16778 non-null float64\n",
      "secondary_cleaner.state.floatbank2_a_air              16497 non-null float64\n",
      "secondary_cleaner.state.floatbank2_a_level            16751 non-null float64\n",
      "secondary_cleaner.state.floatbank2_b_air              16705 non-null float64\n",
      "secondary_cleaner.state.floatbank2_b_level            16748 non-null float64\n",
      "secondary_cleaner.state.floatbank3_a_air              16763 non-null float64\n",
      "secondary_cleaner.state.floatbank3_a_level            16747 non-null float64\n",
      "secondary_cleaner.state.floatbank3_b_air              16752 non-null float64\n",
      "secondary_cleaner.state.floatbank3_b_level            16750 non-null float64\n",
      "secondary_cleaner.state.floatbank4_a_air              16731 non-null float64\n",
      "secondary_cleaner.state.floatbank4_a_level            16747 non-null float64\n",
      "secondary_cleaner.state.floatbank4_b_air              16768 non-null float64\n",
      "secondary_cleaner.state.floatbank4_b_level            16767 non-null float64\n",
      "secondary_cleaner.state.floatbank5_a_air              16775 non-null float64\n",
      "secondary_cleaner.state.floatbank5_a_level            16775 non-null float64\n",
      "secondary_cleaner.state.floatbank5_b_air              16775 non-null float64\n",
      "secondary_cleaner.state.floatbank5_b_level            16776 non-null float64\n",
      "secondary_cleaner.state.floatbank6_a_air              16757 non-null float64\n",
      "secondary_cleaner.state.floatbank6_a_level            16775 non-null float64\n",
      "dtypes: float64(86), object(1)\n",
      "memory usage: 11.2+ MB\n"
     ]
    }
   ],
   "source": [
    "data_train_raw.info()"
   ]
  },
  {
   "cell_type": "markdown",
   "metadata": {},
   "source": [
    "### Проверка расчета эффективности обогащения\n",
    "  - Вычислите её на обучающей выборке для признака rougher.output.recovery.\n",
    "  - Найдите MAE между вашими расчётами и значением признака. Опишите выводы."
   ]
  },
  {
   "cell_type": "code",
   "execution_count": 6,
   "metadata": {},
   "outputs": [
    {
     "name": "stdout",
     "output_type": "stream",
     "text": [
      "<class 'pandas.core.frame.DataFrame'>\n",
      "Int64Index: 14287 entries, 0 to 16859\n",
      "Data columns (total 4 columns):\n",
      "rougher.output.concentrate_au    14287 non-null float64\n",
      "rougher.input.feed_au            14287 non-null float64\n",
      "rougher.output.tail_au           14287 non-null float64\n",
      "rougher.output.recovery          14287 non-null float64\n",
      "dtypes: float64(4)\n",
      "memory usage: 558.1 KB\n"
     ]
    }
   ],
   "source": [
    "recovery_data =  data_train_raw[['rougher.output.concentrate_au',\n",
    "                             'rougher.input.feed_au',\n",
    "                             'rougher.output.tail_au',\n",
    "                             'rougher.output.recovery']]\n",
    "\n",
    "recovery_data = recovery_data.dropna(subset=['rougher.output.recovery'])\n",
    "recovery_data.info()"
   ]
  },
  {
   "cell_type": "markdown",
   "metadata": {},
   "source": [
    "Удалим строки с пустыми значениями в признаке rougher.output.recovery, так как сейчас мы проверяем только правильность расчета."
   ]
  },
  {
   "cell_type": "code",
   "execution_count": 7,
   "metadata": {},
   "outputs": [
    {
     "name": "stdout",
     "output_type": "stream",
     "text": [
      "MAE Prediction Recovery: 0.0\n",
      "MSE Prediction Recovery: 0.0\n"
     ]
    },
    {
     "data": {
      "text/html": [
       "<div>\n",
       "<style scoped>\n",
       "    .dataframe tbody tr th:only-of-type {\n",
       "        vertical-align: middle;\n",
       "    }\n",
       "\n",
       "    .dataframe tbody tr th {\n",
       "        vertical-align: top;\n",
       "    }\n",
       "\n",
       "    .dataframe thead th {\n",
       "        text-align: right;\n",
       "    }\n",
       "</style>\n",
       "<table border=\"1\" class=\"dataframe\">\n",
       "  <thead>\n",
       "    <tr style=\"text-align: right;\">\n",
       "      <th></th>\n",
       "      <th>rougher.output.recovery_pred</th>\n",
       "      <th>rougher.output.recovery</th>\n",
       "    </tr>\n",
       "  </thead>\n",
       "  <tbody>\n",
       "    <tr>\n",
       "      <td>count</td>\n",
       "      <td>14287.000000</td>\n",
       "      <td>14287.000000</td>\n",
       "    </tr>\n",
       "    <tr>\n",
       "      <td>mean</td>\n",
       "      <td>82.394201</td>\n",
       "      <td>82.394201</td>\n",
       "    </tr>\n",
       "    <tr>\n",
       "      <td>std</td>\n",
       "      <td>15.096808</td>\n",
       "      <td>15.096808</td>\n",
       "    </tr>\n",
       "    <tr>\n",
       "      <td>min</td>\n",
       "      <td>-0.000000</td>\n",
       "      <td>0.000000</td>\n",
       "    </tr>\n",
       "    <tr>\n",
       "      <td>25%</td>\n",
       "      <td>79.818372</td>\n",
       "      <td>79.818372</td>\n",
       "    </tr>\n",
       "    <tr>\n",
       "      <td>50%</td>\n",
       "      <td>85.235997</td>\n",
       "      <td>85.235997</td>\n",
       "    </tr>\n",
       "    <tr>\n",
       "      <td>75%</td>\n",
       "      <td>90.131691</td>\n",
       "      <td>90.131691</td>\n",
       "    </tr>\n",
       "    <tr>\n",
       "      <td>max</td>\n",
       "      <td>100.000000</td>\n",
       "      <td>100.000000</td>\n",
       "    </tr>\n",
       "  </tbody>\n",
       "</table>\n",
       "</div>"
      ],
      "text/plain": [
       "       rougher.output.recovery_pred  rougher.output.recovery\n",
       "count                  14287.000000             14287.000000\n",
       "mean                      82.394201                82.394201\n",
       "std                       15.096808                15.096808\n",
       "min                       -0.000000                 0.000000\n",
       "25%                       79.818372                79.818372\n",
       "50%                       85.235997                85.235997\n",
       "75%                       90.131691                90.131691\n",
       "max                      100.000000               100.000000"
      ]
     },
     "execution_count": 7,
     "metadata": {},
     "output_type": "execute_result"
    }
   ],
   "source": [
    "#Введем переменные для формулы расчета recovery\n",
    "C = recovery_data['rougher.output.concentrate_au']/100\n",
    "F = recovery_data['rougher.input.feed_au']/100\n",
    "T = recovery_data['rougher.output.tail_au']/100\n",
    "\n",
    "#C — доля золота в концентрате после флотации/очистки;\n",
    "#F — доля золота в сырье/концентрате до флотации/очистки;\n",
    "#T — доля золота в отвальных хвостах после флотации/очистки.\n",
    "\n",
    "recovery_data['rougher.output.recovery_pred'] = ((C*(F-T))/(F*(C-T))*100)\n",
    "\n",
    "#Рассчитываем MAE и RMSE\n",
    "print(\"MAE Prediction Recovery:\", mean_absolute_error(recovery_data['rougher.output.recovery'],\n",
    "                                           recovery_data['rougher.output.recovery_pred']).round(5))\n",
    "\n",
    "print(\"MSE Prediction Recovery:\", mean_squared_error(recovery_data['rougher.output.recovery'],\n",
    "                                           recovery_data['rougher.output.recovery_pred']).round(5))\n",
    "#Посмотрим на распределения выборок\n",
    "recovery_data[['rougher.output.recovery_pred','rougher.output.recovery']].describe()"
   ]
  },
  {
   "cell_type": "markdown",
   "metadata": {},
   "source": [
    "- Можем использовать нашу формулу, так как результаты полностью совпадают\n",
    "- Средняя (медианная) эффективность обогащения 85.2% "
   ]
  },
  {
   "cell_type": "markdown",
   "metadata": {},
   "source": [
    "### Анализ признаков, недоступных в тестовой выборке. \n",
    "- Что это за параметры? \n",
    "- К какому типу относятся?"
   ]
  },
  {
   "cell_type": "code",
   "execution_count": 8,
   "metadata": {},
   "outputs": [
    {
     "data": {
      "text/plain": [
       "Index(['final.output.concentrate_ag', 'final.output.concentrate_pb',\n",
       "       'final.output.concentrate_sol', 'final.output.concentrate_au',\n",
       "       'final.output.recovery', 'final.output.tail_ag', 'final.output.tail_pb',\n",
       "       'final.output.tail_sol', 'final.output.tail_au',\n",
       "       'primary_cleaner.output.concentrate_ag',\n",
       "       'primary_cleaner.output.concentrate_pb',\n",
       "       'primary_cleaner.output.concentrate_sol',\n",
       "       'primary_cleaner.output.concentrate_au',\n",
       "       'primary_cleaner.output.tail_ag', 'primary_cleaner.output.tail_pb',\n",
       "       'primary_cleaner.output.tail_sol', 'primary_cleaner.output.tail_au',\n",
       "       'rougher.calculation.sulfate_to_au_concentrate',\n",
       "       'rougher.calculation.floatbank10_sulfate_to_au_feed',\n",
       "       'rougher.calculation.floatbank11_sulfate_to_au_feed',\n",
       "       'rougher.calculation.au_pb_ratio', 'rougher.output.concentrate_ag',\n",
       "       'rougher.output.concentrate_pb', 'rougher.output.concentrate_sol',\n",
       "       'rougher.output.concentrate_au', 'rougher.output.recovery',\n",
       "       'rougher.output.tail_ag', 'rougher.output.tail_pb',\n",
       "       'rougher.output.tail_sol', 'rougher.output.tail_au',\n",
       "       'secondary_cleaner.output.tail_ag', 'secondary_cleaner.output.tail_pb',\n",
       "       'secondary_cleaner.output.tail_sol',\n",
       "       'secondary_cleaner.output.tail_au'],\n",
       "      dtype='object')"
      ]
     },
     "execution_count": 8,
     "metadata": {},
     "output_type": "execute_result"
    }
   ],
   "source": [
    "data_train_raw.columns[~data_train_raw.columns.isin(data_test.columns)]"
   ]
  },
  {
   "cell_type": "markdown",
   "metadata": {},
   "source": [
    "- В тестовой выборке не может быть результатов после флотаций и очисток, следовательно и целевых признаков, так как они появляются позже. В тестовой выборке только входные данные"
   ]
  },
  {
   "cell_type": "markdown",
   "metadata": {},
   "source": [
    "### Предобработка данных."
   ]
  },
  {
   "cell_type": "markdown",
   "metadata": {},
   "source": [
    "#### Анализ дупликатов"
   ]
  },
  {
   "cell_type": "code",
   "execution_count": 9,
   "metadata": {
    "scrolled": true
   },
   "outputs": [
    {
     "name": "stdout",
     "output_type": "stream",
     "text": [
      "Количество дупликатов: 0\n"
     ]
    }
   ],
   "source": [
    "print(\"Количество дупликатов:\", data_train_raw.duplicated().sum())"
   ]
  },
  {
   "cell_type": "markdown",
   "metadata": {},
   "source": [
    "#### Анализ и замена пропусков"
   ]
  },
  {
   "cell_type": "code",
   "execution_count": 10,
   "metadata": {},
   "outputs": [
    {
     "name": "stdout",
     "output_type": "stream",
     "text": [
      "<class 'pandas.core.frame.DataFrame'>\n",
      "RangeIndex: 16860 entries, 0 to 16859\n",
      "Data columns (total 87 columns):\n",
      "final.output.concentrate_ag                           16860 non-null float64\n",
      "final.output.concentrate_pb                           16860 non-null float64\n",
      "final.output.concentrate_sol                          16860 non-null float64\n",
      "final.output.concentrate_au                           16860 non-null float64\n",
      "final.output.recovery                                 16860 non-null float64\n",
      "final.output.tail_ag                                  16860 non-null float64\n",
      "final.output.tail_pb                                  16860 non-null float64\n",
      "final.output.tail_sol                                 16860 non-null float64\n",
      "final.output.tail_au                                  16860 non-null float64\n",
      "primary_cleaner.input.sulfate                         16860 non-null float64\n",
      "primary_cleaner.input.depressant                      16860 non-null float64\n",
      "primary_cleaner.input.feed_size                       16860 non-null float64\n",
      "primary_cleaner.input.xanthate                        16860 non-null float64\n",
      "primary_cleaner.output.concentrate_ag                 16860 non-null float64\n",
      "primary_cleaner.output.concentrate_pb                 16860 non-null float64\n",
      "primary_cleaner.output.concentrate_sol                16860 non-null float64\n",
      "primary_cleaner.output.concentrate_au                 16860 non-null float64\n",
      "primary_cleaner.output.tail_ag                        16860 non-null float64\n",
      "primary_cleaner.output.tail_pb                        16860 non-null float64\n",
      "primary_cleaner.output.tail_sol                       16860 non-null float64\n",
      "primary_cleaner.output.tail_au                        16860 non-null float64\n",
      "primary_cleaner.state.floatbank8_a_air                16860 non-null float64\n",
      "primary_cleaner.state.floatbank8_a_level              16860 non-null float64\n",
      "primary_cleaner.state.floatbank8_b_air                16860 non-null float64\n",
      "primary_cleaner.state.floatbank8_b_level              16860 non-null float64\n",
      "primary_cleaner.state.floatbank8_c_air                16860 non-null float64\n",
      "primary_cleaner.state.floatbank8_c_level              16860 non-null float64\n",
      "primary_cleaner.state.floatbank8_d_air                16860 non-null float64\n",
      "primary_cleaner.state.floatbank8_d_level              16860 non-null float64\n",
      "rougher.calculation.sulfate_to_au_concentrate         16860 non-null float64\n",
      "rougher.calculation.floatbank10_sulfate_to_au_feed    16860 non-null float64\n",
      "rougher.calculation.floatbank11_sulfate_to_au_feed    16860 non-null float64\n",
      "rougher.calculation.au_pb_ratio                       16860 non-null float64\n",
      "rougher.input.feed_ag                                 16860 non-null float64\n",
      "rougher.input.feed_pb                                 16860 non-null float64\n",
      "rougher.input.feed_rate                               16860 non-null float64\n",
      "rougher.input.feed_size                               16860 non-null float64\n",
      "rougher.input.feed_sol                                16860 non-null float64\n",
      "rougher.input.feed_au                                 16860 non-null float64\n",
      "rougher.input.floatbank10_sulfate                     16860 non-null float64\n",
      "rougher.input.floatbank10_xanthate                    16860 non-null float64\n",
      "rougher.input.floatbank11_sulfate                     16860 non-null float64\n",
      "rougher.input.floatbank11_xanthate                    16860 non-null float64\n",
      "rougher.output.concentrate_ag                         16860 non-null float64\n",
      "rougher.output.concentrate_pb                         16860 non-null float64\n",
      "rougher.output.concentrate_sol                        16860 non-null float64\n",
      "rougher.output.concentrate_au                         16860 non-null float64\n",
      "rougher.output.recovery                               16860 non-null float64\n",
      "rougher.output.tail_ag                                16860 non-null float64\n",
      "rougher.output.tail_pb                                16860 non-null float64\n",
      "rougher.output.tail_sol                               16860 non-null float64\n",
      "rougher.output.tail_au                                16860 non-null float64\n",
      "rougher.state.floatbank10_a_air                       16860 non-null float64\n",
      "rougher.state.floatbank10_a_level                     16860 non-null float64\n",
      "rougher.state.floatbank10_b_air                       16860 non-null float64\n",
      "rougher.state.floatbank10_b_level                     16860 non-null float64\n",
      "rougher.state.floatbank10_c_air                       16860 non-null float64\n",
      "rougher.state.floatbank10_c_level                     16860 non-null float64\n",
      "rougher.state.floatbank10_d_air                       16860 non-null float64\n",
      "rougher.state.floatbank10_d_level                     16860 non-null float64\n",
      "rougher.state.floatbank10_e_air                       16860 non-null float64\n",
      "rougher.state.floatbank10_e_level                     16860 non-null float64\n",
      "rougher.state.floatbank10_f_air                       16860 non-null float64\n",
      "rougher.state.floatbank10_f_level                     16860 non-null float64\n",
      "secondary_cleaner.output.tail_ag                      16860 non-null float64\n",
      "secondary_cleaner.output.tail_pb                      16860 non-null float64\n",
      "secondary_cleaner.output.tail_sol                     16860 non-null float64\n",
      "secondary_cleaner.output.tail_au                      16860 non-null float64\n",
      "secondary_cleaner.state.floatbank2_a_air              16860 non-null float64\n",
      "secondary_cleaner.state.floatbank2_a_level            16860 non-null float64\n",
      "secondary_cleaner.state.floatbank2_b_air              16860 non-null float64\n",
      "secondary_cleaner.state.floatbank2_b_level            16860 non-null float64\n",
      "secondary_cleaner.state.floatbank3_a_air              16860 non-null float64\n",
      "secondary_cleaner.state.floatbank3_a_level            16860 non-null float64\n",
      "secondary_cleaner.state.floatbank3_b_air              16860 non-null float64\n",
      "secondary_cleaner.state.floatbank3_b_level            16860 non-null float64\n",
      "secondary_cleaner.state.floatbank4_a_air              16860 non-null float64\n",
      "secondary_cleaner.state.floatbank4_a_level            16860 non-null float64\n",
      "secondary_cleaner.state.floatbank4_b_air              16860 non-null float64\n",
      "secondary_cleaner.state.floatbank4_b_level            16860 non-null float64\n",
      "secondary_cleaner.state.floatbank5_a_air              16860 non-null float64\n",
      "secondary_cleaner.state.floatbank5_a_level            16860 non-null float64\n",
      "secondary_cleaner.state.floatbank5_b_air              16860 non-null float64\n",
      "secondary_cleaner.state.floatbank5_b_level            16860 non-null float64\n",
      "secondary_cleaner.state.floatbank6_a_air              16860 non-null float64\n",
      "secondary_cleaner.state.floatbank6_a_level            16860 non-null float64\n",
      "date                                                  16860 non-null object\n",
      "dtypes: float64(86), object(1)\n",
      "memory usage: 11.2+ MB\n"
     ]
    }
   ],
   "source": [
    "without_date = data_train_raw.drop('date',axis = 1)\n",
    "imputer = KNNImputer()\n",
    "x = imputer.fit_transform(without_date)\n",
    "\n",
    "data_train_imp = pd.DataFrame(x, columns = without_date.columns)\n",
    "data_train_imp['date'] = data_train_raw['date']\n",
    "data_train_imp.info()"
   ]
  },
  {
   "cell_type": "markdown",
   "metadata": {},
   "source": [
    "Для обработки пропусков используем KNNImputer, так как imputer не умеет работать с датами, применим его только к числовым признакам. Проверяем, что все сработало корректно."
   ]
  },
  {
   "cell_type": "markdown",
   "metadata": {},
   "source": [
    "#### Анализ и удаление признаков"
   ]
  },
  {
   "cell_type": "markdown",
   "metadata": {},
   "source": [
    "Так как в тестовой выборке нам доступны не все признаки, оставим признаки, которые есть в обоих выборках. "
   ]
  },
  {
   "cell_type": "code",
   "execution_count": 11,
   "metadata": {},
   "outputs": [
    {
     "data": {
      "text/plain": [
       "(16860, 53)"
      ]
     },
     "execution_count": 11,
     "metadata": {},
     "output_type": "execute_result"
    }
   ],
   "source": [
    "#Находим общие признаки из двух выборок\n",
    "common_features = data_train_imp.columns[data_train_imp.columns.isin(data_test.columns)]\n",
    "\n",
    "#Создаем дата фрейм только из общих выборок\n",
    "data_train_crop = pd.DataFrame(data_train_imp[common_features])\n",
    "data_train_crop.shape"
   ]
  },
  {
   "cell_type": "markdown",
   "metadata": {},
   "source": [
    "Осталось общих 53 признака, которые мы будем использовать для построения модели (скорее всего позже придется оставить только несколько из них) "
   ]
  },
  {
   "cell_type": "markdown",
   "metadata": {},
   "source": [
    "## Анализ данных"
   ]
  },
  {
   "cell_type": "markdown",
   "metadata": {},
   "source": [
    "### Посмотрите, как меняется концентрация металлов (Au, Ag, Pb) на различных этапах очистки. Опишите выводы."
   ]
  },
  {
   "cell_type": "code",
   "execution_count": 12,
   "metadata": {},
   "outputs": [
    {
     "data": {
      "text/plain": [
       "rougher.output.concentrate_ag            11.45\n",
       "primary_cleaner.output.concentrate_ag     7.99\n",
       "final.output.concentrate_ag               4.86\n",
       "rougher.output.concentrate_pb             7.58\n",
       "primary_cleaner.output.concentrate_pb     9.55\n",
       "final.output.concentrate_pb              10.06\n",
       "rougher.output.concentrate_au            19.63\n",
       "primary_cleaner.output.concentrate_au    32.63\n",
       "final.output.concentrate_au              44.49\n",
       "dtype: float64"
      ]
     },
     "execution_count": 12,
     "metadata": {},
     "output_type": "execute_result"
    }
   ],
   "source": [
    "concentrate_data = data_train_imp[['rougher.output.concentrate_ag',\n",
    "                                   'primary_cleaner.output.concentrate_ag',\n",
    "                                   'final.output.concentrate_ag',\n",
    "                                   'rougher.output.concentrate_pb',\n",
    "                                   'primary_cleaner.output.concentrate_pb',\n",
    "                                   'final.output.concentrate_pb',\n",
    "                                   'rougher.output.concentrate_au',\n",
    "                                   'primary_cleaner.output.concentrate_au',\n",
    "                                   'final.output.concentrate_au',\n",
    "                                  ]]\n",
    "\n",
    "concentrate_data.median().round(2)"
   ]
  },
  {
   "cell_type": "markdown",
   "metadata": {},
   "source": [
    "Видим, что концетрат серебра снижается в зависимости от стадии очистки, в то время, как концетрат свинца и золота растет, для наглядного примера построим графики"
   ]
  },
  {
   "cell_type": "code",
   "execution_count": 13,
   "metadata": {
    "scrolled": false
   },
   "outputs": [
    {
     "data": {
      "image/png": "[encoded data removed]",
      "text/plain": [
       "<Figure size 1080x576 with 1 Axes>"
      ]
     },
     "metadata": {
      "needs_background": "light"
     },
     "output_type": "display_data"
    },
    {
     "data": {
      "image/png": "[encoded data removed]",
      "text/plain": [
       "<Figure size 1080x576 with 1 Axes>"
      ]
     },
     "metadata": {
      "needs_background": "light"
     },
     "output_type": "display_data"
    },
    {
     "data": {
      "image/png": "[encoded data removed]",
      "text/plain": [
       "<Figure size 1080x576 with 1 Axes>"
      ]
     },
     "metadata": {
      "needs_background": "light"
     },
     "output_type": "display_data"
    }
   ],
   "source": [
    "#Argentum concentrate plot\n",
    "plt.figure(figsize=(15, 8))\n",
    "sns.histplot(concentrate_data[['rougher.output.concentrate_ag',\n",
    "                               'primary_cleaner.output.concentrate_ag',\n",
    "                               'final.output.concentrate_ag']])\n",
    "plt.axis([2, 25, 0, 2000])\n",
    "plt.title(\"Argentum concentrate\")\n",
    "plt.show()\n",
    "\n",
    "\n",
    "#Plumbum concentrate plot\n",
    "plt.figure(figsize=(15, 8))\n",
    "sns.histplot(concentrate_data[['rougher.output.concentrate_pb',\n",
    "                               'primary_cleaner.output.concentrate_pb',\n",
    "                               'final.output.concentrate_pb']])\n",
    "plt.axis([2, 20, 0, 1000])\n",
    "plt.title(\"Plumbum concentrate\")\n",
    "plt.show()\n",
    "\n",
    "\n",
    "#Aurum concentrate plot\n",
    "plt.figure(figsize=(15, 8))\n",
    "sns.histplot(concentrate_data[['rougher.output.concentrate_au',\n",
    "                               'primary_cleaner.output.concentrate_au',\n",
    "                               'final.output.concentrate_au']])\n",
    "plt.axis([2, 60, 0, 3500])\n",
    "plt.title(\"Aurum concentrate\")\n",
    "plt.show()"
   ]
  },
  {
   "cell_type": "markdown",
   "metadata": {},
   "source": [
    "- Содержание золота увеличваетс на всех этапах\n",
    "- Серебра уменьшается на всех этапах\n",
    "- Свинца, увеличивается только после флотации, потом практически не меняется после очистки"
   ]
  },
  {
   "cell_type": "markdown",
   "metadata": {},
   "source": [
    "### Сравните распределения размеров гранул сырья на обучающей и тестовой выборках. Если распределения сильно отличаются друг от друга, оценка модели будет неправильной."
   ]
  },
  {
   "cell_type": "code",
   "execution_count": 14,
   "metadata": {},
   "outputs": [
    {
     "data": {
      "image/png": "[encoded data removed]",
      "text/plain": [
       "<Figure size 1080x576 with 1 Axes>"
      ]
     },
     "metadata": {
      "needs_background": "light"
     },
     "output_type": "display_data"
    }
   ],
   "source": [
    "plt.figure(figsize=(15, 8))\n",
    "plt.axis([0, 125, 0, 0.05])\n",
    "sns.distplot(data_train_imp['rougher.input.feed_size'], norm_hist = True, label = 'train', bins = 200)\n",
    "sns.distplot(data_test['rougher.input.feed_size'], norm_hist = True, label = 'test', color = 'green', bins = 200)\n",
    "plt.legend()\n",
    "plt.show()"
   ]
  },
  {
   "cell_type": "code",
   "execution_count": 15,
   "metadata": {},
   "outputs": [
    {
     "data": {
      "text/html": [
       "<div>\n",
       "<style scoped>\n",
       "    .dataframe tbody tr th:only-of-type {\n",
       "        vertical-align: middle;\n",
       "    }\n",
       "\n",
       "    .dataframe tbody tr th {\n",
       "        vertical-align: top;\n",
       "    }\n",
       "\n",
       "    .dataframe thead th {\n",
       "        text-align: right;\n",
       "    }\n",
       "</style>\n",
       "<table border=\"1\" class=\"dataframe\">\n",
       "  <thead>\n",
       "    <tr style=\"text-align: right;\">\n",
       "      <th></th>\n",
       "      <th>train</th>\n",
       "      <th>test</th>\n",
       "    </tr>\n",
       "  </thead>\n",
       "  <tbody>\n",
       "    <tr>\n",
       "      <td>count</td>\n",
       "      <td>16860.000000</td>\n",
       "      <td>5834.000000</td>\n",
       "    </tr>\n",
       "    <tr>\n",
       "      <td>mean</td>\n",
       "      <td>58.515157</td>\n",
       "      <td>55.937535</td>\n",
       "    </tr>\n",
       "    <tr>\n",
       "      <td>std</td>\n",
       "      <td>23.771058</td>\n",
       "      <td>22.724254</td>\n",
       "    </tr>\n",
       "    <tr>\n",
       "      <td>min</td>\n",
       "      <td>9.659576</td>\n",
       "      <td>0.046369</td>\n",
       "    </tr>\n",
       "    <tr>\n",
       "      <td>25%</td>\n",
       "      <td>47.556338</td>\n",
       "      <td>43.890852</td>\n",
       "    </tr>\n",
       "    <tr>\n",
       "      <td>50%</td>\n",
       "      <td>53.969531</td>\n",
       "      <td>50.002004</td>\n",
       "    </tr>\n",
       "    <tr>\n",
       "      <td>75%</td>\n",
       "      <td>64.643630</td>\n",
       "      <td>61.638434</td>\n",
       "    </tr>\n",
       "    <tr>\n",
       "      <td>max</td>\n",
       "      <td>484.967466</td>\n",
       "      <td>477.445473</td>\n",
       "    </tr>\n",
       "  </tbody>\n",
       "</table>\n",
       "</div>"
      ],
      "text/plain": [
       "              train         test\n",
       "count  16860.000000  5834.000000\n",
       "mean      58.515157    55.937535\n",
       "std       23.771058    22.724254\n",
       "min        9.659576     0.046369\n",
       "25%       47.556338    43.890852\n",
       "50%       53.969531    50.002004\n",
       "75%       64.643630    61.638434\n",
       "max      484.967466   477.445473"
      ]
     },
     "execution_count": 15,
     "metadata": {},
     "output_type": "execute_result"
    }
   ],
   "source": [
    "pd.DataFrame({'train': pd.Series(data_train_imp['rougher.input.feed_size'].describe()),\n",
    "              'test': pd.Series(data_test['rougher.input.feed_size'].describe())})"
   ]
  },
  {
   "cell_type": "markdown",
   "metadata": {},
   "source": [
    "Визуально можем видеть, что хоть и на тестовой выборке распределение немного скошено влево, но совсем незначительно. \n",
    "Так что можем сделать вывод, что выборки разделены достаточно равномерно, можем использовать test и train для наших моделей."
   ]
  },
  {
   "cell_type": "markdown",
   "metadata": {},
   "source": [
    "### Исследуйте суммарную концентрацию всех веществ на разных стадиях: в сырье, в черновом и финальном концентратах.\n",
    "  - Заметили аномальные значения в суммарном распределении или нет?\n",
    "  - Если они есть, стоит ли их удалять из обеих выборок? Опишите выводы и удалите аномалии."
   ]
  },
  {
   "cell_type": "code",
   "execution_count": 16,
   "metadata": {},
   "outputs": [
    {
     "data": {
      "text/plain": [
       "(16860, 93)"
      ]
     },
     "execution_count": 16,
     "metadata": {},
     "output_type": "execute_result"
    }
   ],
   "source": [
    "data_train_imp['rougher.output.concentrate_all'] = data_train_imp['rougher.output.concentrate_ag'] + \\\n",
    "                                                   data_train_imp['rougher.output.concentrate_pb'] + \\\n",
    "                                                   data_train_imp['rougher.output.concentrate_au']\n",
    "\n",
    "data_train_imp['rougher.output.tail_all'] = data_train_imp['rougher.output.tail_ag'] + \\\n",
    "                                            data_train_imp['rougher.output.tail_pb'] + \\\n",
    "                                            data_train_imp['rougher.output.tail_au']\n",
    "\n",
    "data_train_imp['primary_cleaner.output.concentrate_all'] = data_train_imp['primary_cleaner.output.concentrate_ag'] + \\\n",
    "                                                           data_train_imp['primary_cleaner.output.concentrate_pb'] + \\\n",
    "                                                           data_train_imp['primary_cleaner.output.concentrate_au']\n",
    "    \n",
    "data_train_imp['primary_cleaner.output.tail_all'] = data_train_imp['primary_cleaner.output.tail_ag'] + \\\n",
    "                                                    data_train_imp['primary_cleaner.output.tail_pb'] + \\\n",
    "                                                    data_train_imp['primary_cleaner.output.tail_au']\n",
    "\n",
    "data_train_imp['final.output.concentrate_all'] = data_train_imp['final.output.concentrate_ag'] + \\\n",
    "                                                 data_train_imp['final.output.concentrate_pb'] + \\\n",
    "                                                 data_train_imp['final.output.concentrate_au']\n",
    "\n",
    "data_train_imp['final.output.tail_all'] = data_train_imp['final.output.tail_ag'] + \\\n",
    "                                          data_train_imp['final.output.tail_pb'] + \\\n",
    "                                          data_train_imp['final.output.tail_au']\n",
    "\n",
    "data_train_imp.shape"
   ]
  },
  {
   "cell_type": "code",
   "execution_count": 17,
   "metadata": {},
   "outputs": [
    {
     "data": {
      "image/png": "[encoded data removed]",
      "text/plain": [
       "<Figure size 1080x576 with 1 Axes>"
      ]
     },
     "metadata": {
      "needs_background": "light"
     },
     "output_type": "display_data"
    }
   ],
   "source": [
    "plt.figure(figsize=(15, 8))\n",
    "sns.histplot(data_train_imp['rougher.output.concentrate_all'], label = 'rougher',color = 'blue')\n",
    "sns.histplot(data_train_imp['primary_cleaner.output.concentrate_all'],label = 'primary clean',color = 'orange')\n",
    "sns.histplot(data_train_imp['final.output.concentrate_all'], label = 'final',color = 'green')\n",
    "plt.title(\"All elements by stages (main part)\")\n",
    "plt.legend()\n",
    "plt.show()"
   ]
  },
  {
   "cell_type": "markdown",
   "metadata": {},
   "source": [
    "Видим большое количество аномалий со значениями в районе 0-1, скорее всего это тех сбой, избавимся от них и посмотрим после этого еще раз на распределения "
   ]
  },
  {
   "cell_type": "code",
   "execution_count": 18,
   "metadata": {},
   "outputs": [
    {
     "data": {
      "image/png": "[encoded data removed]",
      "text/plain": [
       "<Figure size 1080x576 with 1 Axes>"
      ]
     },
     "metadata": {
      "needs_background": "light"
     },
     "output_type": "display_data"
    }
   ],
   "source": [
    "data_train_imp = data_train_imp[(data_train_imp[['rougher.output.concentrate_all',\n",
    "                                                 'primary_cleaner.output.concentrate_all',\n",
    "                                                 'final.output.concentrate_all']] > 1).all(axis=1)]\n",
    "\n",
    "plt.figure(figsize=(15, 8))\n",
    "sns.histplot(data_train_imp['rougher.output.concentrate_all'], label = 'rougher',color = 'blue')\n",
    "sns.histplot(data_train_imp['primary_cleaner.output.concentrate_all'],label = 'primary clean',color = 'orange')\n",
    "sns.histplot(data_train_imp['final.output.concentrate_all'], label = 'final',color = 'green')\n",
    "plt.title(\"All elements by stages (main part)\")\n",
    "plt.legend()\n",
    "plt.show()"
   ]
  },
  {
   "cell_type": "markdown",
   "metadata": {},
   "source": [
    "Избивились от очевидных выборосов, посмотрим на распределение концетратов в отходах "
   ]
  },
  {
   "cell_type": "code",
   "execution_count": 19,
   "metadata": {},
   "outputs": [
    {
     "data": {
      "image/png": "[encoded data removed]",
      "text/plain": [
       "<Figure size 1080x576 with 1 Axes>"
      ]
     },
     "metadata": {
      "needs_background": "light"
     },
     "output_type": "display_data"
    }
   ],
   "source": [
    "plt.figure(figsize=(15, 8))\n",
    "sns.histplot(data_train_imp['rougher.output.tail_all'], label = 'rougher',color = 'blue')\n",
    "sns.histplot(data_train_imp['primary_cleaner.output.tail_all'],label = 'primary clean',color = 'orange')\n",
    "sns.histplot(data_train_imp['final.output.tail_all'], label = 'final',color = 'green')\n",
    "plt.title(\"All elements by stages (Tails)\")\n",
    "plt.legend()\n",
    "plt.show()"
   ]
  },
  {
   "cell_type": "markdown",
   "metadata": {},
   "source": [
    "- Видим что суммарная концетрация металлов возрастает в зависимости от стадии, что показывает эффективность всех стадий очистки\n",
    "- В то время, как в отходах концетрация после флотации увеличивается, но после финальной очистки снижается. Предположу, эффективность первой и второй очисток выше, чем у флотации"
   ]
  },
  {
   "cell_type": "markdown",
   "metadata": {},
   "source": [
    "## Модель"
   ]
  },
  {
   "cell_type": "markdown",
   "metadata": {},
   "source": [
    "### Напишите функцию для вычисления итоговой sMAPE."
   ]
  },
  {
   "cell_type": "code",
   "execution_count": 20,
   "metadata": {},
   "outputs": [],
   "source": [
    "def smape(target, prediction):    \n",
    "    return np.sum(2 * np.abs(target - prediction) / (np.abs(prediction) + np.abs(target))) / len(target) * 100"
   ]
  },
  {
   "cell_type": "code",
   "execution_count": 21,
   "metadata": {},
   "outputs": [],
   "source": [
    "def total_smape(r_target, r_pred, f_target, f_pred):\n",
    "    return 0.25 * smape(r_target, r_pred) + 0.75 * smape(f_target, f_pred)"
   ]
  },
  {
   "cell_type": "markdown",
   "metadata": {},
   "source": [
    "### Обучите разные модели и оцените их качество кросс-валидацией. Выберите лучшую модель и проверьте её на тестовой выборке. Опишите выводы."
   ]
  },
  {
   "cell_type": "code",
   "execution_count": 22,
   "metadata": {},
   "outputs": [],
   "source": [
    "#Для обучающей выборки оставляем только общие признаки\n",
    "data_train_crop = pd.DataFrame(data_train_imp[common_features])\n",
    "\n",
    "#Для выборок делаем признак date индексом, чтобы по нему забирать значения целевых признаков из полной выборки\n",
    "train=data_train_crop.set_index('date')\n",
    "test=data_test.set_index('date')\n",
    "full=data_full.set_index('date')\n",
    "\n",
    "#Из итоговой выборки забираем значения целевых признаков по индексу для обучающей и тестовой выборок\n",
    "train=(train.join(full[['rougher.output.recovery', 'final.output.recovery']])).reset_index()\n",
    "train=train.dropna(subset = ['rougher.output.recovery', 'final.output.recovery'])\n",
    "\n",
    "test=(test.join(full[['rougher.output.recovery', 'final.output.recovery']])).reset_index()\n",
    "test=test.dropna(subset = ['rougher.output.recovery', 'final.output.recovery'])\n",
    "\n",
    "#Удалим выбросы\n",
    "test = test[(test[['rougher.output.recovery',\n",
    "                   'final.output.recovery']] > 1).all(axis=1)]"
   ]
  },
  {
   "cell_type": "code",
   "execution_count": 23,
   "metadata": {},
   "outputs": [],
   "source": [
    "#обрабатываем пропуски для тестовой выборки\n",
    "without_date = test.drop('date',axis = 1)\n",
    "imputer = KNNImputer()\n",
    "x = imputer.fit_transform(without_date)\n",
    "\n",
    "test_imp = pd.DataFrame(x, columns = without_date.columns)\n",
    "test_imp['date'] = test['date'].copy()"
   ]
  },
  {
   "cell_type": "code",
   "execution_count": 24,
   "metadata": {},
   "outputs": [],
   "source": [
    "#Оставляем только необходимые признаки для разных стадий для обучающей выборки\n",
    "#Rough Train\n",
    "target_train_r=train['rougher.output.recovery']\n",
    "features_train_r=train[['rougher.input.feed_ag',\n",
    "                        'rougher.input.feed_pb',             \n",
    "                        'rougher.input.feed_rate',                    \n",
    "                        'rougher.input.feed_size',                     \n",
    "                        'rougher.input.feed_sol',                        \n",
    "                        'rougher.input.feed_au',                       \n",
    "                        'rougher.input.floatbank10_sulfate',        \n",
    "                        'rougher.input.floatbank10_xanthate',      \n",
    "                        'rougher.input.floatbank11_sulfate',            \n",
    "                        'rougher.input.floatbank11_xanthate',        \n",
    "                        'rougher.state.floatbank10_a_air',            \n",
    "                        'rougher.state.floatbank10_a_level',             \n",
    "                        'rougher.state.floatbank10_b_air',               \n",
    "                        'rougher.state.floatbank10_b_level',          \n",
    "                        'rougher.state.floatbank10_c_air',              \n",
    "                        'rougher.state.floatbank10_c_level',       \n",
    "                        'rougher.state.floatbank10_d_air',          \n",
    "                        'rougher.state.floatbank10_d_level',           \n",
    "                        'rougher.state.floatbank10_e_air',           \n",
    "                        'rougher.state.floatbank10_e_level',          \n",
    "                        'rougher.state.floatbank10_f_air',          \n",
    "                        'rougher.state.floatbank10_f_level']]\n",
    "\n",
    "#Final Train\n",
    "target_train_f=train['final.output.recovery']\n",
    "features_train_f=train.drop(['rougher.output.recovery','final.output.recovery','date'], axis=1)\n",
    "\n",
    "#Оставляем только необходимые признаки для разных стадий для тестовой выборки\n",
    "#Rough Test\n",
    "target_test_r=test_imp['rougher.output.recovery']\n",
    "features_test_r=test_imp[['rougher.input.feed_ag',\n",
    "                        'rougher.input.feed_pb',             \n",
    "                        'rougher.input.feed_rate',                    \n",
    "                        'rougher.input.feed_size',                     \n",
    "                        'rougher.input.feed_sol',                        \n",
    "                        'rougher.input.feed_au',                       \n",
    "                        'rougher.input.floatbank10_sulfate',        \n",
    "                        'rougher.input.floatbank10_xanthate',      \n",
    "                        'rougher.input.floatbank11_sulfate',            \n",
    "                        'rougher.input.floatbank11_xanthate',        \n",
    "                        'rougher.state.floatbank10_a_air',            \n",
    "                        'rougher.state.floatbank10_a_level',             \n",
    "                        'rougher.state.floatbank10_b_air',               \n",
    "                        'rougher.state.floatbank10_b_level',          \n",
    "                        'rougher.state.floatbank10_c_air',              \n",
    "                        'rougher.state.floatbank10_c_level',       \n",
    "                        'rougher.state.floatbank10_d_air',          \n",
    "                        'rougher.state.floatbank10_d_level',           \n",
    "                        'rougher.state.floatbank10_e_air',           \n",
    "                        'rougher.state.floatbank10_e_level',          \n",
    "                        'rougher.state.floatbank10_f_air',          \n",
    "                        'rougher.state.floatbank10_f_level']]\n",
    "\n",
    "#Final Test\n",
    "target_test_f=test_imp['final.output.recovery']\n",
    "features_test_f=test_imp.drop(['rougher.output.recovery','final.output.recovery','date'], axis=1)"
   ]
  },
  {
   "cell_type": "code",
   "execution_count": 25,
   "metadata": {},
   "outputs": [],
   "source": [
    "#Создаем pipeline\n",
    "lr_pipe = Pipeline([('clf', LinearRegression())])\n",
    "rm_pipe = Pipeline([('clf', RandomForestRegressor())])"
   ]
  },
  {
   "cell_type": "markdown",
   "metadata": {},
   "source": [
    "Оставляем только необзодимые для каждой стадии признаки, для Rough оставляем только признаки характерные этому этапу, для Final берем все признаки "
   ]
  },
  {
   "cell_type": "markdown",
   "metadata": {},
   "source": [
    "**Random forest and LinearRegression for Rough Train**"
   ]
  },
  {
   "cell_type": "code",
   "execution_count": 26,
   "metadata": {},
   "outputs": [],
   "source": [
    "#Создадим метрику для валидации\n",
    "smape_score = make_scorer(smape, greater_is_better = False)"
   ]
  },
  {
   "cell_type": "code",
   "execution_count": 27,
   "metadata": {
    "scrolled": false
   },
   "outputs": [
    {
     "name": "stdout",
     "output_type": "stream",
     "text": [
      "sMAPE rough for Random Forest model 1.3401997818265488\n",
      "-----------------------------------------------\n",
      "CPU times: user 5min 56s, sys: 112 ms, total: 5min 56s\n",
      "Wall time: 5min 59s\n"
     ]
    }
   ],
   "source": [
    "%%time\n",
    "\n",
    "#Задаем диапазоны гиперпараметров и инициализируем модель:\n",
    "rf_param = {'clf__n_estimators': randint(10,100,20),\n",
    "            'clf__max_features': ['auto','sqrt'],\n",
    "            'clf__max_depth': randint(2,50,5),\n",
    "            'clf__min_samples_split': randint(2,4),\n",
    "            'clf__min_samples_leaf': randint(1,4),\n",
    "            'clf__bootstrap': [True, False]}\n",
    "\n",
    "#Используем RandomSearch для  перебора параметров и кросс-валидации по метрике smape\n",
    "rf_RandomGrid_r = RandomizedSearchCV(estimator = rm_pipe,\n",
    "                                     param_distributions = rf_param,\n",
    "                                     n_iter = 5,\n",
    "                                     random_state = 42,\n",
    "                                     cv = 3,\n",
    "                                     n_jobs = -1,\n",
    "                                     scoring = smape_score)\n",
    "\n",
    "rf_RandomGrid_r.fit(features_train_r, target_train_r)\n",
    "predictions = rf_RandomGrid_r.predict(features_train_r)\n",
    "print(\"sMAPE rough for Random Forest model\",smape(target_train_r,predictions))\n",
    "print(\"-----------------------------------------------\")"
   ]
  },
  {
   "cell_type": "code",
   "execution_count": 35,
   "metadata": {},
   "outputs": [
    {
     "name": "stdout",
     "output_type": "stream",
     "text": [
      "sMAPE rough for Linear model 6.521657558490821\n",
      "-----------------------------------------------\n",
      "CPU times: user 620 ms, sys: 647 ms, total: 1.27 s\n",
      "Wall time: 1.14 s\n"
     ]
    }
   ],
   "source": [
    "%%time\n",
    "smape_score_r=abs(cross_val_score(lr_pipe,\n",
    "                                  features_train_r,\n",
    "                                  target_train_r,\n",
    "                                  cv = 5, \n",
    "                                  scoring = smape_score))\n",
    "\n",
    "print(\"sMAPE rough for Linear model\", smape_score_r.mean())\n",
    "print(\"-----------------------------------------------\")"
   ]
  },
  {
   "cell_type": "markdown",
   "metadata": {},
   "source": [
    "**Random forest and LinearRegression for Final Train**"
   ]
  },
  {
   "cell_type": "code",
   "execution_count": 36,
   "metadata": {},
   "outputs": [
    {
     "name": "stdout",
     "output_type": "stream",
     "text": [
      "sMAPE rough for Random Forest model 2.654004496541836\n",
      "-----------------------------------------------\n",
      "CPU times: user 11min 13s, sys: 497 ms, total: 11min 14s\n",
      "Wall time: 11min 26s\n"
     ]
    }
   ],
   "source": [
    "%%time\n",
    "#Используем RandomSearch для  перебора параметров и кросс-валидации по метрике smape\n",
    "rf_RandomGrid_f = RandomizedSearchCV(estimator = rm_pipe,\n",
    "                                     param_distributions = rf_param,\n",
    "                                     n_iter = 5,\n",
    "                                     random_state = 42,\n",
    "                                     cv = 3,\n",
    "                                     n_jobs = -1,\n",
    "                                     scoring = smape_score)\n",
    "\n",
    "rf_RandomGrid_f.fit(features_train_f, target_train_f)\n",
    "predictions = rf_RandomGrid_f.predict(features_train_f)\n",
    "print(\"sMAPE rough for Random Forest model\",smape(target_train_f,predictions))\n",
    "print(\"-----------------------------------------------\")"
   ]
  },
  {
   "cell_type": "code",
   "execution_count": 40,
   "metadata": {},
   "outputs": [
    {
     "name": "stdout",
     "output_type": "stream",
     "text": [
      "sMAPE final for Linear model 11.079828411388876\n",
      "-----------------------------------------------\n",
      "CPU times: user 1.4 s, sys: 1.19 s, total: 2.6 s\n",
      "Wall time: 2.59 s\n"
     ]
    }
   ],
   "source": [
    "%%time\n",
    "smape_score_f=abs(cross_val_score(lr_pipe,\n",
    "                                  features_train_f,\n",
    "                                  target_train_f,\n",
    "                                  cv = 5, \n",
    "                                  scoring = smape_score))\n",
    "                  \n",
    "print(\"sMAPE final for Linear model\", smape_score_f.mean())\n",
    "print(\"-----------------------------------------------\")"
   ]
  },
  {
   "cell_type": "markdown",
   "metadata": {},
   "source": [
    "Для обоих этапов лучше подходит модель случайного леса, ее оставим для тестовой выборки"
   ]
  },
  {
   "cell_type": "markdown",
   "metadata": {},
   "source": [
    "**Best models for Rough and Final Test**"
   ]
  },
  {
   "cell_type": "code",
   "execution_count": 41,
   "metadata": {},
   "outputs": [
    {
     "name": "stdout",
     "output_type": "stream",
     "text": [
      "sMAPE rough for Random Forest model 4.455952650341623\n",
      "-----------------------------------------------\n",
      "CPU times: user 75.3 ms, sys: 4 ms, total: 79.3 ms\n",
      "Wall time: 81.9 ms\n"
     ]
    }
   ],
   "source": [
    "%%time\n",
    "predictions_r = rf_RandomGrid_r.predict(features_test_r)\n",
    "print(\"sMAPE rough for Random Forest model\",smape(target_test_r,predictions_r))\n",
    "print(\"-----------------------------------------------\")"
   ]
  },
  {
   "cell_type": "code",
   "execution_count": 42,
   "metadata": {},
   "outputs": [
    {
     "name": "stdout",
     "output_type": "stream",
     "text": [
      "sMAPE rough for Random Forest model 8.021088087310835\n",
      "-----------------------------------------------\n",
      "CPU times: user 76.8 ms, sys: 9 µs, total: 76.8 ms\n",
      "Wall time: 74.9 ms\n"
     ]
    }
   ],
   "source": [
    "%%time\n",
    "predictions_f = rf_RandomGrid_f.predict(features_test_f)\n",
    "print(\"sMAPE rough for Random Forest model\",smape(target_test_f,predictions_f))\n",
    "print(\"-----------------------------------------------\")"
   ]
  },
  {
   "cell_type": "markdown",
   "metadata": {},
   "source": [
    "Видим, что модель переобучилась, так как на тестовой выборке значение smape сильно выше, чем на обучающей."
   ]
  },
  {
   "cell_type": "markdown",
   "metadata": {},
   "source": [
    "**Best models final sMAPE**"
   ]
  },
  {
   "cell_type": "code",
   "execution_count": 43,
   "metadata": {},
   "outputs": [
    {
     "name": "stdout",
     "output_type": "stream",
     "text": [
      "Final sMAPE 7.13\n"
     ]
    }
   ],
   "source": [
    "print(\"Final sMAPE\",(total_smape(target_test_r, predictions_r, target_test_f, predictions_f)).round(2))"
   ]
  },
  {
   "cell_type": "markdown",
   "metadata": {},
   "source": [
    "Итоговый smape получился 7.13, сравним его с фиктивный регрессором, проверим нашу модель на адекватность"
   ]
  },
  {
   "cell_type": "code",
   "execution_count": 44,
   "metadata": {},
   "outputs": [
    {
     "name": "stdout",
     "output_type": "stream",
     "text": [
      "Dummy sMAPE 7.78\n"
     ]
    }
   ],
   "source": [
    "dummy = DummyRegressor(strategy='mean')\n",
    "\n",
    "dummy.fit(features_train_r, target_train_r)\n",
    "dummy_predict_r = dummy.predict(features_test_r)\n",
    "\n",
    "dummy.fit(features_train_f, target_train_f)\n",
    "dummy_predict_f = dummy.predict(features_test_f)\n",
    "\n",
    "print(\"Dummy sMAPE\", (0.25*smape(target_test_r, dummy_predict_r) + 0.75* smape(target_test_f, dummy_predict_f)).round(2))"
   ]
  },
  {
   "cell_type": "markdown",
   "metadata": {},
   "source": [
    "## Вывод"
   ]
  },
  {
   "cell_type": "markdown",
   "metadata": {},
   "source": [
    "Итоговый sMAPE нашей модели 7.13, это лучше фиктивной модели, можно считать модель успешной, но уверен, что ее еще можно улучшить, так как видим, что модель переобучена (на обучающей выборке smape около 2%, а не тестовой около от 4 до 8%\n",
    "\n",
    "Для модели мы использовали Случайный лес, с предобработкой данных: \n",
    "- удаление ненужных признаков\n",
    "- замена пропусков\n",
    "- обработка выбросов\n",
    "- проверка выборок на правиьность разбиения "
   ]
  }
 ],
 "metadata": {
  "kernelspec": {
   "display_name": "Python 3",
   "language": "python",
   "name": "python3"
  },
  "language_info": {
   "codemirror_mode": {
    "name": "ipython",
    "version": 3
   },
   "file_extension": ".py",
   "mimetype": "text/x-python",
   "name": "python",
   "nbconvert_exporter": "python",
   "pygments_lexer": "ipython3",
   "version": "3.7.8"
  },
  "toc": {
   "base_numbering": 1,
   "nav_menu": {},
   "number_sections": true,
   "sideBar": true,
   "skip_h1_title": true,
   "title_cell": "Содержание",
   "title_sidebar": "Contents",
   "toc_cell": true,
   "toc_position": {},
   "toc_section_display": true,
   "toc_window_display": true
  }
 },
 "nbformat": 4,
 "nbformat_minor": 2
}
