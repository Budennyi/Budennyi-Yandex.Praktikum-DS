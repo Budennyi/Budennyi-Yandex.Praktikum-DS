{
 "cells": [
  {
   "cell_type": "markdown",
   "metadata": {
    "toc": true
   },
   "source": [
    "<h1>Содержание<span class=\"tocSkip\"></span></h1>\n",
    "<div class=\"toc\"><ul class=\"toc-item\"><li><span><a href=\"#Подготовка-данных\" data-toc-modified-id=\"Подготовка-данных-1\"><span class=\"toc-item-num\">1&nbsp;&nbsp;</span>Подготовка данных</a></span><ul class=\"toc-item\"><li><span><a href=\"#Распределение-и-влияние-признаков\" data-toc-modified-id=\"Распределение-и-влияние-признаков-1.1\"><span class=\"toc-item-num\">1.1&nbsp;&nbsp;</span>Распределение и влияние признаков</a></span></li><li><span><a href=\"#Матрица-корреляций\" data-toc-modified-id=\"Матрица-корреляций-1.2\"><span class=\"toc-item-num\">1.2&nbsp;&nbsp;</span>Матрица корреляций</a></span></li><li><span><a href=\"#Вывод\" data-toc-modified-id=\"Вывод-1.3\"><span class=\"toc-item-num\">1.3&nbsp;&nbsp;</span>Вывод</a></span></li></ul></li><li><span><a href=\"#Исследование-задачи\" data-toc-modified-id=\"Исследование-задачи-2\"><span class=\"toc-item-num\">2&nbsp;&nbsp;</span>Исследование задачи</a></span><ul class=\"toc-item\"><li><span><a href=\"#Desicion-Tree\" data-toc-modified-id=\"Desicion-Tree-2.1\"><span class=\"toc-item-num\">2.1&nbsp;&nbsp;</span>Desicion Tree</a></span></li><li><span><a href=\"#Random-Forest\" data-toc-modified-id=\"Random-Forest-2.2\"><span class=\"toc-item-num\">2.2&nbsp;&nbsp;</span>Random Forest</a></span></li><li><span><a href=\"#CatBoost\" data-toc-modified-id=\"CatBoost-2.3\"><span class=\"toc-item-num\">2.3&nbsp;&nbsp;</span>CatBoost</a></span></li><li><span><a href=\"#Logistic-Regression\" data-toc-modified-id=\"Logistic-Regression-2.4\"><span class=\"toc-item-num\">2.4&nbsp;&nbsp;</span>Logistic Regression</a></span></li><li><span><a href=\"#Вывод\" data-toc-modified-id=\"Вывод-2.5\"><span class=\"toc-item-num\">2.5&nbsp;&nbsp;</span>Вывод</a></span></li></ul></li><li><span><a href=\"#Борьба-с-дисбалансом\" data-toc-modified-id=\"Борьба-с-дисбалансом-3\"><span class=\"toc-item-num\">3&nbsp;&nbsp;</span>Борьба с дисбалансом</a></span><ul class=\"toc-item\"><li><span><a href=\"#Class-weight\" data-toc-modified-id=\"Class-weight-3.1\"><span class=\"toc-item-num\">3.1&nbsp;&nbsp;</span>Class weight</a></span></li><li><span><a href=\"#Upsampling\" data-toc-modified-id=\"Upsampling-3.2\"><span class=\"toc-item-num\">3.2&nbsp;&nbsp;</span>Upsampling</a></span></li><li><span><a href=\"#Downsampling\" data-toc-modified-id=\"Downsampling-3.3\"><span class=\"toc-item-num\">3.3&nbsp;&nbsp;</span>Downsampling</a></span></li><li><span><a href=\"#SMOTE\" data-toc-modified-id=\"SMOTE-3.4\"><span class=\"toc-item-num\">3.4&nbsp;&nbsp;</span>SMOTE</a></span></li><li><span><a href=\"#Вывод\" data-toc-modified-id=\"Вывод-3.5\"><span class=\"toc-item-num\">3.5&nbsp;&nbsp;</span>Вывод</a></span></li></ul></li><li><span><a href=\"#Тестирование-модели\" data-toc-modified-id=\"Тестирование-модели-4\"><span class=\"toc-item-num\">4&nbsp;&nbsp;</span>Тестирование модели</a></span></li><li><span><a href=\"#Вывод\" data-toc-modified-id=\"Вывод-5\"><span class=\"toc-item-num\">5&nbsp;&nbsp;</span>Вывод</a></span><ul class=\"toc-item\"><li><span><a href=\"#Прошли-отметку-0.59-F1:\" data-toc-modified-id=\"Прошли-отметку-0.59-F1:-5.1\"><span class=\"toc-item-num\">5.1&nbsp;&nbsp;</span>Прошли отметку 0.59 F1:</a></span></li><li><span><a href=\"#Выбор-модели\" data-toc-modified-id=\"Выбор-модели-5.2\"><span class=\"toc-item-num\">5.2&nbsp;&nbsp;</span>Выбор модели</a></span></li><li><span><a href=\"#Борьба-с-дисбалансом-классов\" data-toc-modified-id=\"Борьба-с-дисбалансом-классов-5.3\"><span class=\"toc-item-num\">5.3&nbsp;&nbsp;</span>Борьба с дисбалансом классов</a></span></li><li><span><a href=\"#Итог\" data-toc-modified-id=\"Итог-5.4\"><span class=\"toc-item-num\">5.4&nbsp;&nbsp;</span>Итог</a></span></li></ul></li></ul></div>"
   ]
  },
  {
   "cell_type": "markdown",
   "metadata": {},
   "source": [
    "# Отток клиентов"
   ]
  },
  {
   "cell_type": "markdown",
   "metadata": {},
   "source": [
    "Из банка стали уходить клиенты. Каждый месяц. Немного, но заметно. Банковские маркетологи посчитали: сохранять текущих клиентов дешевле, чем привлекать новых.\n",
    "\n",
    "Нужно спрогнозировать, уйдёт клиент из банка в ближайшее время или нет. Вам предоставлены исторические данные о поведении клиентов и расторжении договоров с банком. \n",
    "\n",
    "Постройте модель с предельно большим значением **F1-меры**. Чтобы сдать проект успешно, нужно довести метрику до **0.59**. Проверьте **F1-меру** на тестовой выборке самостоятельно.\n",
    "\n",
    "Дополнительно измеряйте **AUC-ROC**, сравнивайте её значение с *F1*-мерой.\n",
    "\n",
    "Источник данных: [https://www.kaggle.com/barelydedicated/bank-customer-churn-modeling](https://www.kaggle.com/barelydedicated/bank-customer-churn-modeling)"
   ]
  },
  {
   "cell_type": "markdown",
   "metadata": {},
   "source": [
    "# Описание данных\n",
    "\n",
    "**Признаки**\n",
    "\n",
    "- RowNumber — индекс строки в данных\n",
    "- CustomerId — уникальный идентификатор клиента\n",
    "- Surname — фамилия\n",
    "- CreditScore — кредитный рейтинг\n",
    "- Geography — страна проживания\n",
    "- Gender — пол\n",
    "- Age — возраст\n",
    "- Tenure — сколько лет человек является клиентом банка\n",
    "- Balance — баланс на счёте\n",
    "- NumOfProducts — количество продуктов банка, используемых клиентом\n",
    "- HasCrCard — наличие кредитной карты\n",
    "- IsActiveMember — активность клиента\n",
    "- EstimatedSalary — предполагаемая зарплата\n",
    "\n",
    "**Целевой признак**\n",
    "- Exited — факт ухода клиента"
   ]
  },
  {
   "cell_type": "code",
   "execution_count": 1,
   "metadata": {},
   "outputs": [
    {
     "name": "stdout",
     "output_type": "stream",
     "text": [
      "Defaulting to user installation because normal site-packages is not writeable\n",
      "Requirement already satisfied: catboost in /opt/conda/lib/python3.7/site-packages (0.20.2)\n",
      "Requirement already satisfied: plotly in /opt/conda/lib/python3.7/site-packages (from catboost) (4.1.0)\n",
      "Requirement already satisfied: matplotlib in /opt/conda/lib/python3.7/site-packages (from catboost) (3.1.0)\n",
      "Requirement already satisfied: numpy>=1.16.0 in /opt/conda/lib/python3.7/site-packages (from catboost) (1.19.5)\n",
      "Requirement already satisfied: six in /opt/conda/lib/python3.7/site-packages (from catboost) (1.15.0)\n",
      "Requirement already satisfied: pandas>=0.24.0 in /opt/conda/lib/python3.7/site-packages (from catboost) (0.25.1)\n",
      "Requirement already satisfied: graphviz in /opt/conda/lib/python3.7/site-packages (from catboost) (0.16)\n",
      "Requirement already satisfied: scipy in /opt/conda/lib/python3.7/site-packages (from catboost) (1.4.1)\n",
      "Requirement already satisfied: retrying>=1.3.3 in /opt/conda/lib/python3.7/site-packages (from plotly->catboost) (1.3.3)\n",
      "Requirement already satisfied: pyparsing!=2.0.4,!=2.1.2,!=2.1.6,>=2.0.1 in /opt/conda/lib/python3.7/site-packages (from matplotlib->catboost) (2.4.7)\n",
      "Requirement already satisfied: kiwisolver>=1.0.1 in /opt/conda/lib/python3.7/site-packages (from matplotlib->catboost) (1.3.1)\n",
      "Requirement already satisfied: cycler>=0.10 in /opt/conda/lib/python3.7/site-packages (from matplotlib->catboost) (0.10.0)\n",
      "Requirement already satisfied: python-dateutil>=2.1 in /opt/conda/lib/python3.7/site-packages (from matplotlib->catboost) (2.8.1)\n",
      "Requirement already satisfied: pytz>=2017.2 in /opt/conda/lib/python3.7/site-packages (from pandas>=0.24.0->catboost) (2021.1)\n",
      "Note: you may need to restart the kernel to use updated packages.\n"
     ]
    }
   ],
   "source": [
    "pip install catboost"
   ]
  },
  {
   "cell_type": "code",
   "execution_count": 2,
   "metadata": {},
   "outputs": [
    {
     "name": "stdout",
     "output_type": "stream",
     "text": [
      "Defaulting to user installation because normal site-packages is not writeable\n",
      "Requirement already up-to-date: imbalanced-learn in /home/jovyan/.local/lib/python3.7/site-packages (0.8.0)\n",
      "Requirement already satisfied, skipping upgrade: numpy>=1.13.3 in /opt/conda/lib/python3.7/site-packages (from imbalanced-learn) (1.19.5)\n",
      "Requirement already satisfied, skipping upgrade: scikit-learn>=0.24 in /home/jovyan/.local/lib/python3.7/site-packages (from imbalanced-learn) (0.24.1)\n",
      "Requirement already satisfied, skipping upgrade: joblib>=0.11 in /opt/conda/lib/python3.7/site-packages (from imbalanced-learn) (1.0.1)\n",
      "Requirement already satisfied, skipping upgrade: scipy>=0.19.1 in /opt/conda/lib/python3.7/site-packages (from imbalanced-learn) (1.4.1)\n",
      "Requirement already satisfied, skipping upgrade: threadpoolctl>=2.0.0 in /home/jovyan/.local/lib/python3.7/site-packages (from scikit-learn>=0.24->imbalanced-learn) (2.1.0)\n",
      "Note: you may need to restart the kernel to use updated packages.\n"
     ]
    }
   ],
   "source": [
    "pip install -U imbalanced-learn"
   ]
  },
  {
   "cell_type": "code",
   "execution_count": 3,
   "metadata": {},
   "outputs": [],
   "source": [
    "#Импортируем необходимые библиотеки:\n",
    "import pandas as pd\n",
    "import numpy as np\n",
    "\n",
    "#SKLearn (Классификаторы, Метрики и Прочее)\n",
    "from sklearn.dummy import DummyClassifier\n",
    "from sklearn.tree import DecisionTreeClassifier\n",
    "from sklearn.ensemble import RandomForestClassifier \n",
    "from sklearn.linear_model import LogisticRegression\n",
    "from sklearn.metrics import accuracy_score, recall_score, f1_score, precision_score, roc_auc_score, roc_curve \n",
    "from sklearn.model_selection import train_test_split, GridSearchCV, RandomizedSearchCV\n",
    "from sklearn.preprocessing import StandardScaler\n",
    "from sklearn.utils import shuffle\n",
    "\n",
    "#CatBoost\n",
    "from catboost import CatBoostClassifier\n",
    "\n",
    "#Визуализация\n",
    "import seaborn as sns\n",
    "import matplotlib.pyplot as plt\n",
    "\n",
    "#Прочее\n",
    "from scipy.stats import uniform as randfloat\n",
    "from scipy.stats import randint as randint\n",
    "from imblearn.over_sampling import SMOTE"
   ]
  },
  {
   "cell_type": "markdown",
   "metadata": {},
   "source": [
    "## Подготовка данных"
   ]
  },
  {
   "cell_type": "code",
   "execution_count": 4,
   "metadata": {},
   "outputs": [
    {
     "data": {
      "text/html": [
       "<div>\n",
       "<style scoped>\n",
       "    .dataframe tbody tr th:only-of-type {\n",
       "        vertical-align: middle;\n",
       "    }\n",
       "\n",
       "    .dataframe tbody tr th {\n",
       "        vertical-align: top;\n",
       "    }\n",
       "\n",
       "    .dataframe thead th {\n",
       "        text-align: right;\n",
       "    }\n",
       "</style>\n",
       "<table border=\"1\" class=\"dataframe\">\n",
       "  <thead>\n",
       "    <tr style=\"text-align: right;\">\n",
       "      <th></th>\n",
       "      <th>RowNumber</th>\n",
       "      <th>CustomerId</th>\n",
       "      <th>Surname</th>\n",
       "      <th>CreditScore</th>\n",
       "      <th>Geography</th>\n",
       "      <th>Gender</th>\n",
       "      <th>Age</th>\n",
       "      <th>Tenure</th>\n",
       "      <th>Balance</th>\n",
       "      <th>NumOfProducts</th>\n",
       "      <th>HasCrCard</th>\n",
       "      <th>IsActiveMember</th>\n",
       "      <th>EstimatedSalary</th>\n",
       "      <th>Exited</th>\n",
       "    </tr>\n",
       "  </thead>\n",
       "  <tbody>\n",
       "    <tr>\n",
       "      <td>9894</td>\n",
       "      <td>9895</td>\n",
       "      <td>15704795</td>\n",
       "      <td>Vagin</td>\n",
       "      <td>521</td>\n",
       "      <td>France</td>\n",
       "      <td>Female</td>\n",
       "      <td>77</td>\n",
       "      <td>6.0</td>\n",
       "      <td>0.00</td>\n",
       "      <td>2</td>\n",
       "      <td>1</td>\n",
       "      <td>1</td>\n",
       "      <td>49054.10</td>\n",
       "      <td>0</td>\n",
       "    </tr>\n",
       "    <tr>\n",
       "      <td>4838</td>\n",
       "      <td>4839</td>\n",
       "      <td>15582335</td>\n",
       "      <td>Brown</td>\n",
       "      <td>556</td>\n",
       "      <td>France</td>\n",
       "      <td>Female</td>\n",
       "      <td>40</td>\n",
       "      <td>9.0</td>\n",
       "      <td>129860.37</td>\n",
       "      <td>1</td>\n",
       "      <td>0</td>\n",
       "      <td>0</td>\n",
       "      <td>17992.94</td>\n",
       "      <td>0</td>\n",
       "    </tr>\n",
       "    <tr>\n",
       "      <td>1917</td>\n",
       "      <td>1918</td>\n",
       "      <td>15699772</td>\n",
       "      <td>Barclay</td>\n",
       "      <td>428</td>\n",
       "      <td>Germany</td>\n",
       "      <td>Female</td>\n",
       "      <td>40</td>\n",
       "      <td>3.0</td>\n",
       "      <td>129248.11</td>\n",
       "      <td>2</td>\n",
       "      <td>1</td>\n",
       "      <td>0</td>\n",
       "      <td>72876.43</td>\n",
       "      <td>1</td>\n",
       "    </tr>\n",
       "    <tr>\n",
       "      <td>1317</td>\n",
       "      <td>1318</td>\n",
       "      <td>15720702</td>\n",
       "      <td>Shih</td>\n",
       "      <td>789</td>\n",
       "      <td>France</td>\n",
       "      <td>Male</td>\n",
       "      <td>37</td>\n",
       "      <td>3.0</td>\n",
       "      <td>0.00</td>\n",
       "      <td>1</td>\n",
       "      <td>1</td>\n",
       "      <td>0</td>\n",
       "      <td>121883.87</td>\n",
       "      <td>1</td>\n",
       "    </tr>\n",
       "    <tr>\n",
       "      <td>6318</td>\n",
       "      <td>6319</td>\n",
       "      <td>15686835</td>\n",
       "      <td>Crawford</td>\n",
       "      <td>738</td>\n",
       "      <td>Germany</td>\n",
       "      <td>Female</td>\n",
       "      <td>57</td>\n",
       "      <td>9.0</td>\n",
       "      <td>148384.64</td>\n",
       "      <td>1</td>\n",
       "      <td>0</td>\n",
       "      <td>0</td>\n",
       "      <td>155047.11</td>\n",
       "      <td>1</td>\n",
       "    </tr>\n",
       "  </tbody>\n",
       "</table>\n",
       "</div>"
      ],
      "text/plain": [
       "      RowNumber  CustomerId   Surname  CreditScore Geography  Gender  Age  \\\n",
       "9894       9895    15704795     Vagin          521    France  Female   77   \n",
       "4838       4839    15582335     Brown          556    France  Female   40   \n",
       "1917       1918    15699772   Barclay          428   Germany  Female   40   \n",
       "1317       1318    15720702      Shih          789    France    Male   37   \n",
       "6318       6319    15686835  Crawford          738   Germany  Female   57   \n",
       "\n",
       "      Tenure    Balance  NumOfProducts  HasCrCard  IsActiveMember  \\\n",
       "9894     6.0       0.00              2          1               1   \n",
       "4838     9.0  129860.37              1          0               0   \n",
       "1917     3.0  129248.11              2          1               0   \n",
       "1317     3.0       0.00              1          1               0   \n",
       "6318     9.0  148384.64              1          0               0   \n",
       "\n",
       "      EstimatedSalary  Exited  \n",
       "9894         49054.10       0  \n",
       "4838         17992.94       0  \n",
       "1917         72876.43       1  \n",
       "1317        121883.87       1  \n",
       "6318        155047.11       1  "
      ]
     },
     "execution_count": 4,
     "metadata": {},
     "output_type": "execute_result"
    }
   ],
   "source": [
    "#Считываем файл, посмотрим на случайные пять строк:\n",
    "df = pd.read_csv('/datasets/Churn.csv')\n",
    "df.sample(5)"
   ]
  },
  {
   "cell_type": "code",
   "execution_count": 5,
   "metadata": {},
   "outputs": [
    {
     "name": "stdout",
     "output_type": "stream",
     "text": [
      "Количество задвоенных строк -  0\n"
     ]
    }
   ],
   "source": [
    "#Проверим на дупликаты:\n",
    "print('Количество задвоенных строк - ', df.duplicated().sum())"
   ]
  },
  {
   "cell_type": "code",
   "execution_count": 6,
   "metadata": {},
   "outputs": [
    {
     "name": "stdout",
     "output_type": "stream",
     "text": [
      "<class 'pandas.core.frame.DataFrame'>\n",
      "Index: 10000 entries, 0 to 9999\n",
      "Data columns (total 14 columns):\n",
      "index        10000 non-null int64\n",
      "id           10000 non-null int64\n",
      "surname      10000 non-null object\n",
      "score        10000 non-null int64\n",
      "country      10000 non-null object\n",
      "gender       10000 non-null object\n",
      "age          10000 non-null int64\n",
      "tenure       9091 non-null float64\n",
      "balance      10000 non-null float64\n",
      "products     10000 non-null int64\n",
      "is_credit    10000 non-null int64\n",
      "is_active    10000 non-null int64\n",
      "salary       10000 non-null float64\n",
      "churn        10000 non-null int64\n",
      "dtypes: float64(3), int64(8), object(3)\n",
      "memory usage: 1.1+ MB\n"
     ]
    }
   ],
   "source": [
    "#Изменим название стобцов для удобства:\n",
    "df.rename(index=str, inplace = True, columns={\"RowNumber\": \"index\",\n",
    "                                              \"CustomerId\": \"id\",\n",
    "                                              \"Surname\": \"surname\",\n",
    "                                              \"CreditScore\": \"score\",\n",
    "                                              \"Geography\": \"country\",\n",
    "                                              \"Gender\": \"gender\",\n",
    "                                              \"Age\": \"age\",\n",
    "                                              \"Tenure\": \"tenure\",\n",
    "                                              \"Balance\": \"balance\",\n",
    "                                              \"NumOfProducts\": \"products\",\n",
    "                                              \"HasCrCard\": \"is_credit\",\n",
    "                                              \"IsActiveMember\": \"is_active\",\n",
    "                                              \"EstimatedSalary\": \"salary\",\n",
    "                                              \"Exited\": \"churn\"})\n",
    "\n",
    "#Проверим на наличие пропусков и посмотрим на типы данных:\n",
    "df.info()"
   ]
  },
  {
   "cell_type": "code",
   "execution_count": 7,
   "metadata": {},
   "outputs": [
    {
     "data": {
      "text/html": [
       "<div>\n",
       "<style scoped>\n",
       "    .dataframe tbody tr th:only-of-type {\n",
       "        vertical-align: middle;\n",
       "    }\n",
       "\n",
       "    .dataframe tbody tr th {\n",
       "        vertical-align: top;\n",
       "    }\n",
       "\n",
       "    .dataframe thead th {\n",
       "        text-align: right;\n",
       "    }\n",
       "</style>\n",
       "<table border=\"1\" class=\"dataframe\">\n",
       "  <thead>\n",
       "    <tr style=\"text-align: right;\">\n",
       "      <th></th>\n",
       "      <th>score</th>\n",
       "      <th>age</th>\n",
       "      <th>tenure</th>\n",
       "      <th>balance</th>\n",
       "      <th>products</th>\n",
       "      <th>is_credit</th>\n",
       "      <th>is_active</th>\n",
       "      <th>salary</th>\n",
       "      <th>churn</th>\n",
       "      <th>country_Germany</th>\n",
       "      <th>country_Spain</th>\n",
       "      <th>gender_Male</th>\n",
       "    </tr>\n",
       "  </thead>\n",
       "  <tbody>\n",
       "    <tr>\n",
       "      <td>9027</td>\n",
       "      <td>802</td>\n",
       "      <td>37</td>\n",
       "      <td>9.0</td>\n",
       "      <td>115569.21</td>\n",
       "      <td>1</td>\n",
       "      <td>0</td>\n",
       "      <td>1</td>\n",
       "      <td>119782.89</td>\n",
       "      <td>0</td>\n",
       "      <td>1</td>\n",
       "      <td>0</td>\n",
       "      <td>1</td>\n",
       "    </tr>\n",
       "    <tr>\n",
       "      <td>58</td>\n",
       "      <td>511</td>\n",
       "      <td>66</td>\n",
       "      <td>4.0</td>\n",
       "      <td>0.00</td>\n",
       "      <td>1</td>\n",
       "      <td>1</td>\n",
       "      <td>0</td>\n",
       "      <td>1643.11</td>\n",
       "      <td>1</td>\n",
       "      <td>0</td>\n",
       "      <td>1</td>\n",
       "      <td>0</td>\n",
       "    </tr>\n",
       "    <tr>\n",
       "      <td>3209</td>\n",
       "      <td>525</td>\n",
       "      <td>26</td>\n",
       "      <td>7.0</td>\n",
       "      <td>153644.39</td>\n",
       "      <td>1</td>\n",
       "      <td>1</td>\n",
       "      <td>1</td>\n",
       "      <td>63197.88</td>\n",
       "      <td>0</td>\n",
       "      <td>0</td>\n",
       "      <td>0</td>\n",
       "      <td>1</td>\n",
       "    </tr>\n",
       "    <tr>\n",
       "      <td>9117</td>\n",
       "      <td>703</td>\n",
       "      <td>32</td>\n",
       "      <td>6.0</td>\n",
       "      <td>0.00</td>\n",
       "      <td>2</td>\n",
       "      <td>0</td>\n",
       "      <td>0</td>\n",
       "      <td>33606.52</td>\n",
       "      <td>0</td>\n",
       "      <td>0</td>\n",
       "      <td>0</td>\n",
       "      <td>0</td>\n",
       "    </tr>\n",
       "    <tr>\n",
       "      <td>8836</td>\n",
       "      <td>850</td>\n",
       "      <td>43</td>\n",
       "      <td>7.0</td>\n",
       "      <td>0.00</td>\n",
       "      <td>2</td>\n",
       "      <td>1</td>\n",
       "      <td>1</td>\n",
       "      <td>173851.11</td>\n",
       "      <td>0</td>\n",
       "      <td>0</td>\n",
       "      <td>0</td>\n",
       "      <td>1</td>\n",
       "    </tr>\n",
       "  </tbody>\n",
       "</table>\n",
       "</div>"
      ],
      "text/plain": [
       "      score  age  tenure    balance  products  is_credit  is_active  \\\n",
       "9027    802   37     9.0  115569.21         1          0          1   \n",
       "58      511   66     4.0       0.00         1          1          0   \n",
       "3209    525   26     7.0  153644.39         1          1          1   \n",
       "9117    703   32     6.0       0.00         2          0          0   \n",
       "8836    850   43     7.0       0.00         2          1          1   \n",
       "\n",
       "         salary  churn  country_Germany  country_Spain  gender_Male  \n",
       "9027  119782.89      0                1              0            1  \n",
       "58      1643.11      1                0              1            0  \n",
       "3209   63197.88      0                0              0            1  \n",
       "9117   33606.52      0                0              0            0  \n",
       "8836  173851.11      0                0              0            1  "
      ]
     },
     "execution_count": 7,
     "metadata": {},
     "output_type": "execute_result"
    }
   ],
   "source": [
    "#Удалим очевидно лишние признаки, которые не дадут нам никакой информации:\n",
    "df =  df.drop(['surname','index','id'], axis = 1).copy()\n",
    "\n",
    "\n",
    "#Применим one-hot-encoding, чтобы наши модели могли с ними работать, для избегания ловушки \"отбросим\" по одному из значений\n",
    "df = pd.get_dummies(df, drop_first=True)\n",
    "df.sample(5)"
   ]
  },
  {
   "cell_type": "markdown",
   "metadata": {},
   "source": [
    "### Распределение и влияние признаков\n",
    "Посмотрим на средние значения признаков в двух группах — тех, кто ушел в отток и тех, кто остался, пока что толь"
   ]
  },
  {
   "cell_type": "code",
   "execution_count": 8,
   "metadata": {},
   "outputs": [
    {
     "data": {
      "text/html": [
       "<style  type=\"text/css\" >\n",
       "    #T_587c7344_9929_11eb_9254_02420a39d253row0_col0 {\n",
       "            width:  100px;\n",
       "        }    #T_587c7344_9929_11eb_9254_02420a39d253row0_col1 {\n",
       "            width:  100px;\n",
       "        }    #T_587c7344_9929_11eb_9254_02420a39d253row0_col2 {\n",
       "            width:  100px;\n",
       "        }    #T_587c7344_9929_11eb_9254_02420a39d253row0_col3 {\n",
       "            background-color:  #08306b;\n",
       "            color:  #f1f1f1;\n",
       "            width:  100px;\n",
       "        }    #T_587c7344_9929_11eb_9254_02420a39d253row1_col0 {\n",
       "            width:  100px;\n",
       "        }    #T_587c7344_9929_11eb_9254_02420a39d253row1_col1 {\n",
       "            width:  100px;\n",
       "        }    #T_587c7344_9929_11eb_9254_02420a39d253row1_col2 {\n",
       "            width:  100px;\n",
       "        }    #T_587c7344_9929_11eb_9254_02420a39d253row1_col3 {\n",
       "            background-color:  #abd0e6;\n",
       "            color:  #000000;\n",
       "            width:  100px;\n",
       "        }    #T_587c7344_9929_11eb_9254_02420a39d253row2_col0 {\n",
       "            width:  100px;\n",
       "        }    #T_587c7344_9929_11eb_9254_02420a39d253row2_col1 {\n",
       "            width:  100px;\n",
       "        }    #T_587c7344_9929_11eb_9254_02420a39d253row2_col2 {\n",
       "            width:  100px;\n",
       "        }    #T_587c7344_9929_11eb_9254_02420a39d253row2_col3 {\n",
       "            background-color:  #abd0e6;\n",
       "            color:  #000000;\n",
       "            width:  100px;\n",
       "        }    #T_587c7344_9929_11eb_9254_02420a39d253row3_col0 {\n",
       "            width:  100px;\n",
       "        }    #T_587c7344_9929_11eb_9254_02420a39d253row3_col1 {\n",
       "            width:  100px;\n",
       "        }    #T_587c7344_9929_11eb_9254_02420a39d253row3_col2 {\n",
       "            width:  100px;\n",
       "        }    #T_587c7344_9929_11eb_9254_02420a39d253row3_col3 {\n",
       "            background-color:  #abd0e6;\n",
       "            color:  #000000;\n",
       "            width:  100px;\n",
       "        }    #T_587c7344_9929_11eb_9254_02420a39d253row4_col0 {\n",
       "            width:  100px;\n",
       "        }    #T_587c7344_9929_11eb_9254_02420a39d253row4_col1 {\n",
       "            width:  100px;\n",
       "        }    #T_587c7344_9929_11eb_9254_02420a39d253row4_col2 {\n",
       "            width:  100px;\n",
       "        }    #T_587c7344_9929_11eb_9254_02420a39d253row4_col3 {\n",
       "            background-color:  #c6dbef;\n",
       "            color:  #000000;\n",
       "            width:  100px;\n",
       "        }    #T_587c7344_9929_11eb_9254_02420a39d253row5_col0 {\n",
       "            width:  100px;\n",
       "        }    #T_587c7344_9929_11eb_9254_02420a39d253row5_col1 {\n",
       "            width:  100px;\n",
       "        }    #T_587c7344_9929_11eb_9254_02420a39d253row5_col2 {\n",
       "            width:  100px;\n",
       "        }    #T_587c7344_9929_11eb_9254_02420a39d253row5_col3 {\n",
       "            background-color:  #d0e2f2;\n",
       "            color:  #000000;\n",
       "            width:  100px;\n",
       "        }    #T_587c7344_9929_11eb_9254_02420a39d253row6_col0 {\n",
       "            width:  100px;\n",
       "        }    #T_587c7344_9929_11eb_9254_02420a39d253row6_col1 {\n",
       "            width:  100px;\n",
       "        }    #T_587c7344_9929_11eb_9254_02420a39d253row6_col2 {\n",
       "            width:  100px;\n",
       "        }    #T_587c7344_9929_11eb_9254_02420a39d253row6_col3 {\n",
       "            background-color:  #f3f8fe;\n",
       "            color:  #000000;\n",
       "            width:  100px;\n",
       "        }    #T_587c7344_9929_11eb_9254_02420a39d253row7_col0 {\n",
       "            width:  100px;\n",
       "        }    #T_587c7344_9929_11eb_9254_02420a39d253row7_col1 {\n",
       "            width:  100px;\n",
       "        }    #T_587c7344_9929_11eb_9254_02420a39d253row7_col2 {\n",
       "            width:  100px;\n",
       "        }    #T_587c7344_9929_11eb_9254_02420a39d253row7_col3 {\n",
       "            background-color:  #f4f9fe;\n",
       "            color:  #000000;\n",
       "            width:  100px;\n",
       "        }    #T_587c7344_9929_11eb_9254_02420a39d253row8_col0 {\n",
       "            width:  100px;\n",
       "        }    #T_587c7344_9929_11eb_9254_02420a39d253row8_col1 {\n",
       "            width:  100px;\n",
       "        }    #T_587c7344_9929_11eb_9254_02420a39d253row8_col2 {\n",
       "            width:  100px;\n",
       "        }    #T_587c7344_9929_11eb_9254_02420a39d253row8_col3 {\n",
       "            background-color:  #f5fafe;\n",
       "            color:  #000000;\n",
       "            width:  100px;\n",
       "        }    #T_587c7344_9929_11eb_9254_02420a39d253row9_col0 {\n",
       "            width:  100px;\n",
       "        }    #T_587c7344_9929_11eb_9254_02420a39d253row9_col1 {\n",
       "            width:  100px;\n",
       "        }    #T_587c7344_9929_11eb_9254_02420a39d253row9_col2 {\n",
       "            width:  100px;\n",
       "        }    #T_587c7344_9929_11eb_9254_02420a39d253row9_col3 {\n",
       "            background-color:  #f7fbff;\n",
       "            color:  #000000;\n",
       "            width:  100px;\n",
       "        }    #T_587c7344_9929_11eb_9254_02420a39d253row10_col0 {\n",
       "            width:  100px;\n",
       "        }    #T_587c7344_9929_11eb_9254_02420a39d253row10_col1 {\n",
       "            width:  100px;\n",
       "        }    #T_587c7344_9929_11eb_9254_02420a39d253row10_col2 {\n",
       "            width:  100px;\n",
       "        }    #T_587c7344_9929_11eb_9254_02420a39d253row10_col3 {\n",
       "            background-color:  #f7fbff;\n",
       "            color:  #000000;\n",
       "            width:  100px;\n",
       "        }</style><table id=\"T_587c7344_9929_11eb_9254_02420a39d253\" ><thead>    <tr>        <th class=\"col_heading level0 col0\" >feature</th>        <th class=\"col_heading level0 col1\" >no_churn</th>        <th class=\"col_heading level0 col2\" >churn</th>        <th class=\"col_heading level0 col3\" >%</th>    </tr></thead><tbody>\n",
       "                <tr>\n",
       "                                <td id=\"T_587c7344_9929_11eb_9254_02420a39d253row0_col0\" class=\"data row0 col0\" >is_germany</td>\n",
       "                        <td id=\"T_587c7344_9929_11eb_9254_02420a39d253row0_col1\" class=\"data row0 col1\" >0.20</td>\n",
       "                        <td id=\"T_587c7344_9929_11eb_9254_02420a39d253row0_col2\" class=\"data row0 col2\" >0.40</td>\n",
       "                        <td id=\"T_587c7344_9929_11eb_9254_02420a39d253row0_col3\" class=\"data row0 col3\" >100.0%</td>\n",
       "            </tr>\n",
       "            <tr>\n",
       "                                <td id=\"T_587c7344_9929_11eb_9254_02420a39d253row1_col0\" class=\"data row1 col0\" >is_active</td>\n",
       "                        <td id=\"T_587c7344_9929_11eb_9254_02420a39d253row1_col1\" class=\"data row1 col1\" >0.60</td>\n",
       "                        <td id=\"T_587c7344_9929_11eb_9254_02420a39d253row1_col2\" class=\"data row1 col2\" >0.40</td>\n",
       "                        <td id=\"T_587c7344_9929_11eb_9254_02420a39d253row1_col3\" class=\"data row1 col3\" >33.3%</td>\n",
       "            </tr>\n",
       "            <tr>\n",
       "                                <td id=\"T_587c7344_9929_11eb_9254_02420a39d253row2_col0\" class=\"data row2 col0\" >is_spain</td>\n",
       "                        <td id=\"T_587c7344_9929_11eb_9254_02420a39d253row2_col1\" class=\"data row2 col1\" >0.30</td>\n",
       "                        <td id=\"T_587c7344_9929_11eb_9254_02420a39d253row2_col2\" class=\"data row2 col2\" >0.20</td>\n",
       "                        <td id=\"T_587c7344_9929_11eb_9254_02420a39d253row2_col3\" class=\"data row2 col3\" >33.3%</td>\n",
       "            </tr>\n",
       "            <tr>\n",
       "                                <td id=\"T_587c7344_9929_11eb_9254_02420a39d253row3_col0\" class=\"data row3 col0\" >is_male</td>\n",
       "                        <td id=\"T_587c7344_9929_11eb_9254_02420a39d253row3_col1\" class=\"data row3 col1\" >0.60</td>\n",
       "                        <td id=\"T_587c7344_9929_11eb_9254_02420a39d253row3_col2\" class=\"data row3 col2\" >0.40</td>\n",
       "                        <td id=\"T_587c7344_9929_11eb_9254_02420a39d253row3_col3\" class=\"data row3 col3\" >33.3%</td>\n",
       "            </tr>\n",
       "            <tr>\n",
       "                                <td id=\"T_587c7344_9929_11eb_9254_02420a39d253row4_col0\" class=\"data row4 col0\" >balance</td>\n",
       "                        <td id=\"T_587c7344_9929_11eb_9254_02420a39d253row4_col1\" class=\"data row4 col1\" >72745.30</td>\n",
       "                        <td id=\"T_587c7344_9929_11eb_9254_02420a39d253row4_col2\" class=\"data row4 col2\" >91108.50</td>\n",
       "                        <td id=\"T_587c7344_9929_11eb_9254_02420a39d253row4_col3\" class=\"data row4 col3\" >25.2%</td>\n",
       "            </tr>\n",
       "            <tr>\n",
       "                                <td id=\"T_587c7344_9929_11eb_9254_02420a39d253row5_col0\" class=\"data row5 col0\" >age</td>\n",
       "                        <td id=\"T_587c7344_9929_11eb_9254_02420a39d253row5_col1\" class=\"data row5 col1\" >37.40</td>\n",
       "                        <td id=\"T_587c7344_9929_11eb_9254_02420a39d253row5_col2\" class=\"data row5 col2\" >44.80</td>\n",
       "                        <td id=\"T_587c7344_9929_11eb_9254_02420a39d253row5_col3\" class=\"data row5 col3\" >19.8%</td>\n",
       "            </tr>\n",
       "            <tr>\n",
       "                                <td id=\"T_587c7344_9929_11eb_9254_02420a39d253row6_col0\" class=\"data row6 col0\" >tenure</td>\n",
       "                        <td id=\"T_587c7344_9929_11eb_9254_02420a39d253row6_col1\" class=\"data row6 col1\" >5.00</td>\n",
       "                        <td id=\"T_587c7344_9929_11eb_9254_02420a39d253row6_col2\" class=\"data row6 col2\" >4.90</td>\n",
       "                        <td id=\"T_587c7344_9929_11eb_9254_02420a39d253row6_col3\" class=\"data row6 col3\" >2.0%</td>\n",
       "            </tr>\n",
       "            <tr>\n",
       "                                <td id=\"T_587c7344_9929_11eb_9254_02420a39d253row7_col0\" class=\"data row7 col0\" >salary</td>\n",
       "                        <td id=\"T_587c7344_9929_11eb_9254_02420a39d253row7_col1\" class=\"data row7 col1\" >99738.40</td>\n",
       "                        <td id=\"T_587c7344_9929_11eb_9254_02420a39d253row7_col2\" class=\"data row7 col2\" >101465.70</td>\n",
       "                        <td id=\"T_587c7344_9929_11eb_9254_02420a39d253row7_col3\" class=\"data row7 col3\" >1.7%</td>\n",
       "            </tr>\n",
       "            <tr>\n",
       "                                <td id=\"T_587c7344_9929_11eb_9254_02420a39d253row8_col0\" class=\"data row8 col0\" >score</td>\n",
       "                        <td id=\"T_587c7344_9929_11eb_9254_02420a39d253row8_col1\" class=\"data row8 col1\" >651.90</td>\n",
       "                        <td id=\"T_587c7344_9929_11eb_9254_02420a39d253row8_col2\" class=\"data row8 col2\" >645.40</td>\n",
       "                        <td id=\"T_587c7344_9929_11eb_9254_02420a39d253row8_col3\" class=\"data row8 col3\" >1.0%</td>\n",
       "            </tr>\n",
       "            <tr>\n",
       "                                <td id=\"T_587c7344_9929_11eb_9254_02420a39d253row9_col0\" class=\"data row9 col0\" >products</td>\n",
       "                        <td id=\"T_587c7344_9929_11eb_9254_02420a39d253row9_col1\" class=\"data row9 col1\" >1.50</td>\n",
       "                        <td id=\"T_587c7344_9929_11eb_9254_02420a39d253row9_col2\" class=\"data row9 col2\" >1.50</td>\n",
       "                        <td id=\"T_587c7344_9929_11eb_9254_02420a39d253row9_col3\" class=\"data row9 col3\" >0.0%</td>\n",
       "            </tr>\n",
       "            <tr>\n",
       "                                <td id=\"T_587c7344_9929_11eb_9254_02420a39d253row10_col0\" class=\"data row10 col0\" >is_credit</td>\n",
       "                        <td id=\"T_587c7344_9929_11eb_9254_02420a39d253row10_col1\" class=\"data row10 col1\" >0.70</td>\n",
       "                        <td id=\"T_587c7344_9929_11eb_9254_02420a39d253row10_col2\" class=\"data row10 col2\" >0.70</td>\n",
       "                        <td id=\"T_587c7344_9929_11eb_9254_02420a39d253row10_col3\" class=\"data row10 col3\" >0.0%</td>\n",
       "            </tr>\n",
       "    </tbody></table>"
      ],
      "text/plain": [
       "<pandas.io.formats.style.Styler at 0x7f6ba0384350>"
      ]
     },
     "execution_count": 8,
     "metadata": {},
     "output_type": "execute_result"
    }
   ],
   "source": [
    "#Изменим название стобцов для удобства:\n",
    "df.rename(index=str, inplace = True, columns={\"country_Germany\": \"is_germany\",\n",
    "                                              \"country_Spain\": \"is_spain\",\n",
    "                                              \"gender_Male\": \"is_male\"})\n",
    "\n",
    "#Для таблицы уберем из данных непоказательные призаки и сгруппируем их по призаку 'churn' \n",
    "churn_table = df.groupby('churn').mean().round(1).T.reset_index()\n",
    "churn_table.columns = ['feature','no_churn', 'churn']\n",
    "\n",
    "#Добавим столобец с абсолютным отклонением 'churn' от 'no_churn' и отсортируем по размеру отклонений ср. значений\n",
    "churn_table['%'] = ((churn_table['churn'] / churn_table['no_churn'])-1).abs()\n",
    "churn_table = churn_table.sort_values(by = '%', ascending = False)\n",
    "\n",
    "#Форматирование таблицы\n",
    "format_dict = {'no_churn': '{:.2f}','churn': '{:.2f}','%': '{:.1%}'}\n",
    "churn_table\\\n",
    ".style\\\n",
    ".format(format_dict)\\\n",
    ".hide_index()\\\n",
    ".background_gradient(subset=['%'], cmap='Blues')\\\n",
    ".set_properties(**{'width': '100px'})"
   ]
  },
  {
   "cell_type": "markdown",
   "metadata": {},
   "source": [
    "### Матрица корреляций"
   ]
  },
  {
   "cell_type": "code",
   "execution_count": 9,
   "metadata": {},
   "outputs": [
    {
     "data": {
      "text/plain": [
       "Text(0.5, 1, 'Correlation Matrix')"
      ]
     },
     "execution_count": 9,
     "metadata": {},
     "output_type": "execute_result"
    },
    {
     "data": {
      "image/png": "[encoded data removed]",
      "text/plain": [
       "<Figure size 720x720 with 2 Axes>"
      ]
     },
     "metadata": {
      "needs_background": "light"
     },
     "output_type": "display_data"
    }
   ],
   "source": [
    "#Видим, что признак tenure (имеющий пропущенные значения) не сильно влияет на отток, удалим его.\n",
    "df =  df.drop(['tenure'], axis = 1).copy()\n",
    "\n",
    "#Строим татрицу корреляций\n",
    "corr_matrix = df.corr().round(2)\n",
    "\n",
    "#Формат heatmap\n",
    "plt.figure(figsize=(10, 10))\n",
    "sns.heatmap(corr_matrix, annot = True, square = True, cmap=\"Blues\")\n",
    "plt.title('Correlation Matrix', fontsize=32)"
   ]
  },
  {
   "cell_type": "markdown",
   "metadata": {},
   "source": [
    "### Вывод \n",
    "**Пропуски:**\n",
    "Видим большое количество пропусков только в признаке tenure, возможно, это связано с технческой ошибкой, либо это значит, что время в статусе клиента менее года. Тут следует уточнить у сотрудников отвественных за выгрузку данных. Заменять на меры средних - слишком опасно, пока что оставим как есть.\n",
    "\n",
    "**Лишние признаки:**\n",
    "Удалили лишние признаки **surname, index, id**\n",
    "\n",
    "**Типы данных:**\n",
    "Все типы данных привели к корректным, применили **OHE**, где необходимо\n",
    "\n",
    "**Дупликаты:**\n",
    "Дупликатов не обнаружили\n",
    "\n",
    "**Влияние признаков:**\n",
    "- Самый большое влияние на отток у признака (Клиент из Германии)\n",
    "- Баланс, Активный ли пользователь, Пол, Возраст, Клиент из Испании - тоже значительно влияют на отток \n",
    "\n",
    "**Матрица корреляций:**\n",
    "- Мультиколлинеарность не обнаружено\n",
    "- Выводы из прошлого пункта подтвердились\n",
    "- Видим корреляцию между клиентами из Германии и балансом "
   ]
  },
  {
   "cell_type": "markdown",
   "metadata": {},
   "source": [
    "## Исследование задачи"
   ]
  },
  {
   "cell_type": "code",
   "execution_count": 10,
   "metadata": {},
   "outputs": [
    {
     "data": {
      "text/plain": [
       "0    0.796\n",
       "1    0.204\n",
       "Name: churn, dtype: float64"
      ]
     },
     "execution_count": 10,
     "metadata": {},
     "output_type": "execute_result"
    }
   ],
   "source": [
    "#Первым делом посмотрим на баланс классов\n",
    "df['churn'].value_counts(normalize = True).round(3)"
   ]
  },
  {
   "cell_type": "markdown",
   "metadata": {},
   "source": [
    "Видим сильный дисбаланс классов (80/20), попробуем построить модели без корректировки баланса класса, исправлять дисбаланс будем в следующей части"
   ]
  },
  {
   "cell_type": "code",
   "execution_count": 11,
   "metadata": {},
   "outputs": [
    {
     "name": "stdout",
     "output_type": "stream",
     "text": [
      "train 7500 0.75\n",
      "test  2500 0.25\n"
     ]
    }
   ],
   "source": [
    "#Извлекаем признаки для обучения и целевой признак:\n",
    "features = df.drop(['churn'], axis = 1)\n",
    "target = df['churn']\n",
    "\n",
    "#Разбиваем данные на тестовую и обучающую выборки в пропорции 20/80:\n",
    "features_train, features_test, target_train, target_test = train_test_split(\n",
    "    features, target, test_size=0.25, random_state=42)\n",
    "\n",
    "\n",
    "#Проверяем количество элементов в моделях и их пропорции:\n",
    "print(\"train\", len(features_train),len(features_train) / len(df))\n",
    "print(\"test \",len(features_test),len(features_test) / len(df))"
   ]
  },
  {
   "cell_type": "code",
   "execution_count": 12,
   "metadata": {},
   "outputs": [],
   "source": [
    "#Применим маштабирование, так как модель логистической регрессии чувствительна к разным диапазонам данных.\n",
    "sc = StandardScaler()\n",
    "model_sc = sc.fit(features_train)\n",
    "train_sc = model_sc.transform(features_train)\n",
    "test_sc = model_sc.transform(features_test)"
   ]
  },
  {
   "cell_type": "markdown",
   "metadata": {},
   "source": [
    "Так как задача - бинарная классификация, выбираем подходящие модели для этого:"
   ]
  },
  {
   "cell_type": "code",
   "execution_count": 13,
   "metadata": {},
   "outputs": [],
   "source": [
    "#Напишем функцию вывода ключевых метрик:\n",
    "def print_metrics(y):  \n",
    "    print (y,':')\n",
    "    print (\"-------------------------\")  \n",
    "    print (f'F1 Score  - : {f1_score(target,predictions):.3f}')\n",
    "    print (f'ROC-AUC   - : {roc_auc_score(target,predictions):.3f}')\n",
    "    print (f'Accuracy  - : {accuracy_score(target,predictions):.3f}')\n",
    "    print (f'Precision - : {precision_score(target,predictions):.3f}')\n",
    "    print (f'Recall    - : {recall_score(target,predictions):.3f}')\n",
    "    print (\"-------------------------\")       "
   ]
  },
  {
   "cell_type": "markdown",
   "metadata": {},
   "source": [
    "### Desicion Tree"
   ]
  },
  {
   "cell_type": "code",
   "execution_count": 14,
   "metadata": {},
   "outputs": [
    {
     "name": "stdout",
     "output_type": "stream",
     "text": [
      "Train :\n",
      "-------------------------\n",
      "F1 Score  - : 0.591\n",
      "ROC-AUC   - : 0.722\n",
      "Accuracy  - : 0.863\n",
      "Precision - : 0.764\n",
      "Recall    - : 0.482\n",
      "-------------------------\n",
      "CPU times: user 252 ms, sys: 66.6 ms, total: 318 ms\n",
      "Wall time: 5.98 s\n"
     ]
    }
   ],
   "source": [
    "%%time\n",
    "#Задаем диапазоны гиперпараметров:\n",
    "dt_param = { 'max_features': ['auto','sqrt'],\n",
    "               'max_depth': range(6,10),\n",
    "               'min_samples_split': range(2,3),\n",
    "               'min_samples_leaf': range(1,2)}\n",
    "\n",
    "dt_model = DecisionTreeClassifier(random_state = 42)\n",
    "dt_GridSearch = GridSearchCV(estimator = dt_model,\n",
    "                             param_grid = dt_param,\n",
    "                             cv = 3,\n",
    "                             n_jobs = 4,\n",
    "                             scoring = 'f1')\n",
    "\n",
    "dt_GridSearch.fit(features_train, target_train)\n",
    "predictions = dt_GridSearch.predict(features_train)\n",
    "target = target_train\n",
    "\n",
    "print_metrics('Train')"
   ]
  },
  {
   "cell_type": "markdown",
   "metadata": {},
   "source": [
    "### Random Forest"
   ]
  },
  {
   "cell_type": "code",
   "execution_count": 15,
   "metadata": {},
   "outputs": [
    {
     "name": "stdout",
     "output_type": "stream",
     "text": [
      "Train :\n",
      "-------------------------\n",
      "F1 Score  - : 0.709\n",
      "ROC-AUC   - : 0.782\n",
      "Accuracy  - : 0.902\n",
      "Precision - : 0.916\n",
      "Recall    - : 0.578\n",
      "-------------------------\n",
      "CPU times: user 4.34 s, sys: 50.4 ms, total: 4.4 s\n",
      "Wall time: 34.1 s\n"
     ]
    }
   ],
   "source": [
    "%%time\n",
    "\n",
    "#Задаем диапазоны гиперпараметров и инициализируем модель:\n",
    "rf_param = {'n_estimators': randint(150,450,25),\n",
    "               'max_features': ['auto','sqrt'],\n",
    "               'max_depth': randint(9,14),\n",
    "               'min_samples_split': randint(2,10),\n",
    "               'min_samples_leaf': randint(1,10),\n",
    "               'bootstrap': [True, False]}\n",
    "\n",
    "rf_model = RandomForestClassifier(random_state = 42)\n",
    "rf_RandomGrid = RandomizedSearchCV(estimator = rf_model,\n",
    "                                   param_distributions = rf_param,\n",
    "                                   random_state = 42,\n",
    "                                   cv = 2,\n",
    "                                   n_jobs = 2,\n",
    "                                   scoring = 'f1')\n",
    "\n",
    "rf_RandomGrid.fit(features_train, target_train)\n",
    "predictions = rf_RandomGrid.predict(features_train)\n",
    "target = target_train\n",
    "\n",
    "print_metrics('Train')"
   ]
  },
  {
   "cell_type": "markdown",
   "metadata": {},
   "source": [
    "###  CatBoost"
   ]
  },
  {
   "cell_type": "code",
   "execution_count": 16,
   "metadata": {},
   "outputs": [
    {
     "name": "stdout",
     "output_type": "stream",
     "text": [
      "Train :\n",
      "-------------------------\n",
      "F1 Score  - : 0.631\n",
      "ROC-AUC   - : 0.743\n",
      "Accuracy  - : 0.875\n",
      "Precision - : 0.801\n",
      "Recall    - : 0.520\n",
      "-------------------------\n",
      "CPU times: user 10.2 s, sys: 1.45 s, total: 11.6 s\n",
      "Wall time: 12.7 s\n"
     ]
    }
   ],
   "source": [
    "%%time\n",
    "\n",
    "#Задаем гиперпараметры и инициализируем модель:\n",
    "model_cb = CatBoostClassifier(silent = True,\n",
    "                              random_state=42,\n",
    "                              learning_rate=0.27,\n",
    "                              early_stopping_rounds=250,\n",
    "                              eval_metric='F1')\n",
    "#fit и predict\n",
    "model_cb.fit(features_train, target_train, eval_set = (features_test, target_test))\n",
    "predictions = model_cb.predict(features_train)\n",
    "target = target_train\n",
    "\n",
    "print_metrics('Train')"
   ]
  },
  {
   "cell_type": "markdown",
   "metadata": {},
   "source": [
    "###  Logistic Regression"
   ]
  },
  {
   "cell_type": "code",
   "execution_count": 17,
   "metadata": {},
   "outputs": [
    {
     "name": "stdout",
     "output_type": "stream",
     "text": [
      "Train :\n",
      "-------------------------\n",
      "F1 Score  - : 0.322\n",
      "ROC-AUC   - : 0.592\n",
      "Accuracy  - : 0.812\n",
      "Precision - : 0.618\n",
      "Recall    - : 0.218\n",
      "-------------------------\n",
      "CPU times: user 126 ms, sys: 147 ms, total: 273 ms\n",
      "Wall time: 222 ms\n"
     ]
    }
   ],
   "source": [
    "%%time\n",
    "\n",
    "#Инициализируем модель, fit, predict:\n",
    "model_lg = LogisticRegression(solver = \"liblinear\")\n",
    "model_lg.fit(train_sc, target_train)\n",
    "predictions = model_lg.predict(train_sc)\n",
    "target = target_train\n",
    "\n",
    "print_metrics('Train')"
   ]
  },
  {
   "cell_type": "markdown",
   "metadata": {},
   "source": [
    "### Вывод"
   ]
  },
  {
   "cell_type": "code",
   "execution_count": 18,
   "metadata": {},
   "outputs": [
    {
     "name": "stdout",
     "output_type": "stream",
     "text": [
      "Desicion Tree  Train F1/ROC-AUC: 0.591 / 0.722\n",
      "Random Forest  Train F1/ROC-AUC: 0.709 / 0.782\n",
      "Cat Boost      Train F1/ROC-AUC: 0.631 / 0.743\n",
      "Log Regression Train F1/ROC-AUC: 0.341 / 0.501\n"
     ]
    }
   ],
   "source": [
    "models = (dt_GridSearch,rf_RandomGrid,model_cb,model_lg)\n",
    "names = (\"Desicion Tree \",\"Random Forest \",\"Cat Boost     \",\"Log Regression\")\n",
    "\n",
    "for i in range(len(models)): \n",
    "    predictions = models[i].predict(features_train)\n",
    "    print(names[i],\n",
    "          \"Train F1/ROC-AUC:\",\n",
    "          f1_score(target_train,predictions).round(3),\n",
    "          \"/\",\n",
    "          roc_auc_score(target_train,predictions).round(3))   "
   ]
  },
  {
   "cell_type": "markdown",
   "metadata": {},
   "source": [
    "- Лучше всех модель случайно леса с рандомный перебором гиперпараметров, F1 мера - 0.709, ROC-AUC 0.782\n",
    "- На втором месте Cat Boost c показателем F1 меры 0.631 и ROC-AUC 0.743\n",
    "- Чуть хуже модель решающего дерева - 0.591, ROC-AUC -0.722\n",
    "- Модель логистической регрессии очень сильно отстает - 0.341, видно, как она чувствительна к дисбалансу классов, даже со стандартизацией данных\n",
    "\n",
    "\n",
    "Так как при переборе гиперпараметров мы испольщовали кросс-валидацию, переобучения у моделей не должно быть"
   ]
  },
  {
   "cell_type": "markdown",
   "metadata": {},
   "source": [
    "## Борьба с дисбалансом"
   ]
  },
  {
   "cell_type": "markdown",
   "metadata": {},
   "source": [
    "### Class weight"
   ]
  },
  {
   "cell_type": "markdown",
   "metadata": {},
   "source": [
    "**Decision Tree**"
   ]
  },
  {
   "cell_type": "code",
   "execution_count": 19,
   "metadata": {},
   "outputs": [
    {
     "name": "stdout",
     "output_type": "stream",
     "text": [
      "Train balanced weight :\n",
      "-------------------------\n",
      "F1 Score  - : 0.617\n",
      "ROC-AUC   - : 0.798\n",
      "Accuracy  - : 0.796\n",
      "Precision - : 0.503\n",
      "Recall    - : 0.800\n",
      "-------------------------\n",
      "CPU times: user 129 ms, sys: 42.4 ms, total: 171 ms\n",
      "Wall time: 1.56 s\n"
     ]
    }
   ],
   "source": [
    "%%time\n",
    "\n",
    "#Используем GridSearchCV для перебора гиперпараметров:\n",
    "dt_model_bs = DecisionTreeClassifier(random_state = 42, class_weight='balanced')\n",
    "dt_GridSearch_bs = GridSearchCV(estimator = dt_model_bs,\n",
    "                                param_grid = dt_param,\n",
    "                                cv = 3,\n",
    "                                n_jobs = 3,\n",
    "                                scoring = 'f1')\n",
    "#fit и predict\n",
    "dt_GridSearch_bs.fit(features_train, target_train)\n",
    "predictions = dt_GridSearch_bs.predict(features_train)\n",
    "target = target_train\n",
    "\n",
    "print_metrics('Train balanced weight')"
   ]
  },
  {
   "cell_type": "markdown",
   "metadata": {},
   "source": [
    "**Random Forest**"
   ]
  },
  {
   "cell_type": "code",
   "execution_count": 20,
   "metadata": {},
   "outputs": [
    {
     "name": "stdout",
     "output_type": "stream",
     "text": [
      "Train balanced weight :\n",
      "-------------------------\n",
      "F1 Score  - : 0.722\n",
      "ROC-AUC   - : 0.846\n",
      "Accuracy  - : 0.873\n",
      "Precision - : 0.658\n",
      "Recall    - : 0.801\n",
      "-------------------------\n",
      "CPU times: user 1.73 s, sys: 59.4 ms, total: 1.79 s\n",
      "Wall time: 59.8 s\n"
     ]
    }
   ],
   "source": [
    "%%time\n",
    "\n",
    "#Используем RandomizedSearchCV для перебора гиперпараметров:\n",
    "rf_model_bs = RandomForestClassifier(random_state = 42, class_weight='balanced')\n",
    "rf_RandomGrid_bs = RandomizedSearchCV(estimator = rf_model_bs,\n",
    "                                   param_distributions = rf_param,\n",
    "                                   random_state = 42,\n",
    "                                   cv = 3,\n",
    "                                   n_jobs = 4,\n",
    "                                   scoring = 'f1')\n",
    "#fit и predict\n",
    "rf_RandomGrid_bs.fit(features_train, target_train)\n",
    "predictions = rf_RandomGrid_bs.predict(features_train)\n",
    "target = target_train\n",
    "\n",
    "print_metrics('Train balanced weight')"
   ]
  },
  {
   "cell_type": "markdown",
   "metadata": {},
   "source": [
    "**Logistic Regression**"
   ]
  },
  {
   "cell_type": "code",
   "execution_count": 21,
   "metadata": {},
   "outputs": [
    {
     "name": "stdout",
     "output_type": "stream",
     "text": [
      "Train balanced weight :\n",
      "-------------------------\n",
      "F1 Score  - : 0.494\n",
      "ROC-AUC   - : 0.703\n",
      "Accuracy  - : 0.709\n",
      "Precision - : 0.384\n",
      "Recall    - : 0.692\n",
      "-------------------------\n"
     ]
    }
   ],
   "source": [
    "#Инициализируем модель, fit, predict:\n",
    "lg_model_bs = LogisticRegression(solver = \"liblinear\", class_weight='balanced')\n",
    "lg_model_bs.fit(train_sc, target_train)\n",
    "predictions = lg_model_bs.predict(train_sc)\n",
    "target = target_train\n",
    "\n",
    "print_metrics('Train balanced weight')"
   ]
  },
  {
   "cell_type": "markdown",
   "metadata": {},
   "source": [
    "### Upsampling"
   ]
  },
  {
   "cell_type": "code",
   "execution_count": 22,
   "metadata": {},
   "outputs": [
    {
     "name": "stdout",
     "output_type": "stream",
     "text": [
      "train 5625 0.5625\n",
      "test  1875 0.1875\n"
     ]
    }
   ],
   "source": [
    "#Разбиваем данные на тестовую и обучающую выборки в пропорции 20/80:\n",
    "features_first, features_valid, target_first, target_valid = train_test_split(\n",
    "    features_train, target_train, test_size=0.25, random_state=42)\n",
    "\n",
    "\n",
    "#Проверяем количество элементов в моделях и их пропорции:\n",
    "print(\"train\", len(features_first),len(features_first) / len(df))\n",
    "print(\"test \",len(features_valid),len(features_valid) / len(df))"
   ]
  },
  {
   "cell_type": "markdown",
   "metadata": {},
   "source": [
    "Проверяем, что выборки распределились верно"
   ]
  },
  {
   "cell_type": "code",
   "execution_count": 23,
   "metadata": {},
   "outputs": [
    {
     "name": "stdout",
     "output_type": "stream",
     "text": [
      "1    0.51\n",
      "0    0.49\n",
      "Name: churn, dtype: float64\n"
     ]
    }
   ],
   "source": [
    "#Создаем функцию, которая будет множить редкий класс и перемешивать строки\n",
    "def upsample(features, target, repeat):\n",
    "    features_zeros = features[target == 0]\n",
    "    features_ones = features[target == 1]\n",
    "    target_zeros = target[target == 0]\n",
    "    target_ones = target[target == 1]\n",
    "\n",
    "    features_upsampled = pd.concat([features_zeros] + [features_ones] * repeat)\n",
    "    target_upsampled = pd.concat([target_zeros] + [target_ones] * repeat)\n",
    "    \n",
    "    features_upsampled, target_upsampled = shuffle(\n",
    "        features_upsampled, target_upsampled, random_state=42)\n",
    "    \n",
    "    return features_upsampled, target_upsampled\n",
    "\n",
    "features_upsampled, target_upsampled = upsample(features_first, target_first, 4)\n",
    "\n",
    "print(target_upsampled.value_counts(normalize = True).round(2))"
   ]
  },
  {
   "cell_type": "markdown",
   "metadata": {},
   "source": [
    "**Decision Tree**"
   ]
  },
  {
   "cell_type": "code",
   "execution_count": 24,
   "metadata": {
    "scrolled": true
   },
   "outputs": [
    {
     "name": "stdout",
     "output_type": "stream",
     "text": [
      "Valid with upsampling :\n",
      "-------------------------\n",
      "F1 Score  - : 0.576\n",
      "ROC-AUC   - : 0.750\n",
      "Accuracy  - : 0.796\n",
      "Precision - : 0.504\n",
      "Recall    - : 0.671\n",
      "-------------------------\n",
      "CPU times: user 2.99 s, sys: 10.2 ms, total: 3 s\n",
      "Wall time: 3.01 s\n"
     ]
    }
   ],
   "source": [
    "%%time\n",
    "\n",
    "#Используем цикл вместо GridSearchCV для перебора гиперпараметров:\n",
    "best_dt_model_us = None\n",
    "best_result_dt_us = 0\n",
    "\n",
    "for depth in range(3, 11):\n",
    "    for split in [2,3,4]:\n",
    "        for leaf in [1,2,3]:\n",
    "            for bootstrap in [True, False]:\n",
    "                dt_model_us = DecisionTreeClassifier(random_state=42,\n",
    "                                      max_depth=depth,\n",
    "                                      min_samples_split = split,\n",
    "                                      min_samples_leaf = leaf)\n",
    "    \n",
    "                dt_model_us.fit(features_upsampled, target_upsampled)\n",
    "                predictions = dt_model_us.predict(features_valid)\n",
    "                result = f1_score(predictions,target_valid)\n",
    "                if result > best_result_dt_us:\n",
    "                    best_dt_model_us = dt_model_us\n",
    "                    best_result_dt_us = result\n",
    "\n",
    "#fit и predict\n",
    "predictions = best_dt_model_us.predict(features_valid)\n",
    "target = target_valid\n",
    "\n",
    "print_metrics('Valid with upsampling')"
   ]
  },
  {
   "cell_type": "markdown",
   "metadata": {},
   "source": [
    "**Random Forest**"
   ]
  },
  {
   "cell_type": "code",
   "execution_count": 25,
   "metadata": {},
   "outputs": [
    {
     "name": "stdout",
     "output_type": "stream",
     "text": [
      "Valid with upsampling :\n",
      "-------------------------\n",
      "F1 Score  - : 0.624\n",
      "ROC-AUC   - : 0.783\n",
      "Accuracy  - : 0.823\n",
      "Precision - : 0.554\n",
      "Recall    - : 0.715\n",
      "-------------------------\n",
      "CPU times: user 1min 19s, sys: 255 ms, total: 1min 19s\n",
      "Wall time: 1min 19s\n"
     ]
    }
   ],
   "source": [
    "%%time\n",
    "\n",
    "#Используем цикл вместо RandomizedSearchCV для перебора гиперпараметров:\n",
    "best_model_rf_us = None\n",
    "best_result_rf_us = 0\n",
    "\n",
    "for est in range(5, 51, 10): \n",
    "    for depth in range (6, 10, 1): \n",
    "        for split in [2,3,4]:\n",
    "            for leaf in [1,2,3,4]:\n",
    "                for bootstrap in [True, False]:\n",
    "                    rf_model_us = RandomForestClassifier(random_state = 42,\n",
    "                                                  n_estimators = est,\n",
    "                                                  max_depth = depth,\n",
    "                                                  min_samples_split = split,\n",
    "                                                  min_samples_leaf = leaf,\n",
    "                                                  bootstrap = bootstrap)\n",
    "                    \n",
    "                    rf_model_us.fit(features_upsampled, target_upsampled)\n",
    "                    predictions = rf_model_us.predict(features_valid) \n",
    "                    result = f1_score(predictions,target_valid)\n",
    "                    if result > best_result_rf_us:\n",
    "                        best_model_rf_us = rf_model_us\n",
    "                        best_result_rf_us = result\n",
    "\n",
    "#fit и predict\n",
    "predictions = best_model_rf_us.predict(features_valid)\n",
    "target = target_valid\n",
    "\n",
    "print_metrics('Valid with upsampling')"
   ]
  },
  {
   "cell_type": "markdown",
   "metadata": {},
   "source": [
    "**Logistic Regression**"
   ]
  },
  {
   "cell_type": "code",
   "execution_count": 26,
   "metadata": {},
   "outputs": [
    {
     "name": "stdout",
     "output_type": "stream",
     "text": [
      "Train with upsampling :\n",
      "-------------------------\n",
      "F1 Score  - : 0.705\n",
      "ROC-AUC   - : 0.702\n",
      "Accuracy  - : 0.702\n",
      "Precision - : 0.710\n",
      "Recall    - : 0.699\n",
      "-------------------------\n",
      "CPU times: user 84.2 ms, sys: 135 ms, total: 219 ms\n",
      "Wall time: 223 ms\n"
     ]
    }
   ],
   "source": [
    "%%time\n",
    "\n",
    "#Применим маштабирование, так как модель логистической регрессии чувствительна к разным диапазонам данных.\n",
    "train_sc = sc.transform(features_upsampled)\n",
    "\n",
    "#Инициализируем модель, fit, predict:\n",
    "lg_model_us = LogisticRegression(solver = \"liblinear\")\n",
    "lg_model_us.fit(train_sc, target_upsampled)\n",
    "predictions = lg_model_us.predict(train_sc)\n",
    "target = target_upsampled\n",
    "\n",
    "print_metrics('Train with upsampling')"
   ]
  },
  {
   "cell_type": "markdown",
   "metadata": {},
   "source": [
    "### Downsampling"
   ]
  },
  {
   "cell_type": "code",
   "execution_count": 27,
   "metadata": {},
   "outputs": [
    {
     "name": "stdout",
     "output_type": "stream",
     "text": [
      "1    0.51\n",
      "0    0.49\n",
      "Name: churn, dtype: float64\n"
     ]
    }
   ],
   "source": [
    "#Создаем функцию, которая будет брать только часть частого класса и перемешивать строки\n",
    "def downsample(features, target, fraction):\n",
    "    features_zeros = features[target == 0]\n",
    "    features_ones = features[target == 1]\n",
    "    target_zeros = target[target == 0]\n",
    "    target_ones = target[target == 1]\n",
    "\n",
    "    features_downsampled = pd.concat(\n",
    "        [features_zeros.sample(frac=fraction, random_state=42)] + [features_ones])\n",
    "    target_downsampled = pd.concat(\n",
    "        [target_zeros.sample(frac=fraction, random_state=42)] + [target_ones])\n",
    "    \n",
    "    features_downsampled, target_downsampled = shuffle(\n",
    "        features_downsampled, target_downsampled, random_state=42)\n",
    "    \n",
    "    return features_downsampled, target_downsampled\n",
    "\n",
    "features_downsampled, target_downsampled = downsample(features_first, target_first, 0.25)\n",
    "\n",
    "print(target_downsampled.value_counts(normalize = True).round(2))"
   ]
  },
  {
   "cell_type": "markdown",
   "metadata": {},
   "source": [
    "**Decision Tree**"
   ]
  },
  {
   "cell_type": "code",
   "execution_count": 28,
   "metadata": {},
   "outputs": [
    {
     "name": "stdout",
     "output_type": "stream",
     "text": [
      "Valid with downsampling :\n",
      "-------------------------\n",
      "F1 Score  - : 0.569\n",
      "ROC-AUC   - : 0.768\n",
      "Accuracy  - : 0.751\n",
      "Precision - : 0.442\n",
      "Recall    - : 0.795\n",
      "-------------------------\n",
      "CPU times: user 1.3 s, sys: 8.15 ms, total: 1.31 s\n",
      "Wall time: 1.33 s\n"
     ]
    }
   ],
   "source": [
    "%%time\n",
    "\n",
    "#Используем цикл вместо GridSearchCV для перебора гиперпараметров:\n",
    "best_dt_model_ds = None\n",
    "best_result_dt_ds = 0\n",
    "\n",
    "for depth in range(3, 11):\n",
    "    for split in [2,3,4]:\n",
    "        for leaf in [1,2,3]:\n",
    "            for bootstrap in [True, False]:\n",
    "                dt_model_ds = DecisionTreeClassifier(random_state=42,\n",
    "                                      max_depth=depth,\n",
    "                                      min_samples_split = split,\n",
    "                                      min_samples_leaf = leaf)\n",
    "    \n",
    "                dt_model_ds.fit(features_downsampled, target_downsampled)\n",
    "                predictions = dt_model_ds.predict(features_valid)\n",
    "                result = f1_score(predictions,target_valid)\n",
    "                if result > best_result_dt_ds:\n",
    "                    best_dt_model_ds = dt_model_ds\n",
    "                    best_result_dt_ds = result\n",
    "\n",
    "#fit и predict\n",
    "predictions = best_dt_model_ds.predict(features_valid)\n",
    "target = target_valid\n",
    "\n",
    "print_metrics('Valid with downsampling')"
   ]
  },
  {
   "cell_type": "markdown",
   "metadata": {},
   "source": [
    "**Random Forest**"
   ]
  },
  {
   "cell_type": "code",
   "execution_count": 29,
   "metadata": {},
   "outputs": [
    {
     "name": "stdout",
     "output_type": "stream",
     "text": [
      "Valid with downsampling :\n",
      "-------------------------\n",
      "F1 Score  - : 0.608\n",
      "ROC-AUC   - : 0.790\n",
      "Accuracy  - : 0.790\n",
      "Precision - : 0.494\n",
      "Recall    - : 0.790\n",
      "-------------------------\n",
      "CPU times: user 34.2 s, sys: 170 ms, total: 34.4 s\n",
      "Wall time: 34.5 s\n"
     ]
    }
   ],
   "source": [
    "%%time\n",
    "\n",
    "#Используем цикл вместо RandomizedSearchCV для перебора гиперпараметров:\n",
    "best_model_rf_ds = None\n",
    "best_result_rf_ds = 0\n",
    "\n",
    "for est in range(5, 51, 10): \n",
    "    for depth in range (6, 10, 1): \n",
    "        for split in [2,3,4]:\n",
    "            for leaf in [1,2,3,4]:\n",
    "                for bootstrap in [True, False]:\n",
    "                    rf_model_ds = RandomForestClassifier(random_state = 42,\n",
    "                                                  n_estimators = est,\n",
    "                                                  max_depth = depth,\n",
    "                                                  min_samples_split = split,\n",
    "                                                  min_samples_leaf = leaf,\n",
    "                                                  bootstrap = bootstrap)\n",
    "                    \n",
    "                    rf_model_ds.fit(features_downsampled, target_downsampled)\n",
    "                    predictions = rf_model_ds.predict(features_valid) \n",
    "                    result = f1_score(predictions,target_valid)\n",
    "                    if result > best_result_rf_ds:\n",
    "                        best_model_rf_ds = rf_model_ds\n",
    "                        best_result_rf_ds = result\n",
    "\n",
    "#fit и predict\n",
    "predictions = best_model_rf_ds.predict(features_valid)\n",
    "target = target_valid\n",
    "\n",
    "print_metrics('Valid with downsampling')"
   ]
  },
  {
   "cell_type": "markdown",
   "metadata": {},
   "source": [
    "**Logistic Regression**"
   ]
  },
  {
   "cell_type": "code",
   "execution_count": 30,
   "metadata": {},
   "outputs": [
    {
     "name": "stdout",
     "output_type": "stream",
     "text": [
      "Train with downsampling :\n",
      "-------------------------\n",
      "F1 Score  - : 0.714\n",
      "ROC-AUC   - : 0.710\n",
      "Accuracy  - : 0.710\n",
      "Precision - : 0.716\n",
      "Recall    - : 0.711\n",
      "-------------------------\n",
      "CPU times: user 59.3 ms, sys: 78.6 ms, total: 138 ms\n",
      "Wall time: 140 ms\n"
     ]
    }
   ],
   "source": [
    "%%time\n",
    "\n",
    "#Применим маштабирование, так как модель логистической регрессии чувствительна к разным диапазонам данных.\n",
    "train_sc = sc.transform(features_downsampled)\n",
    "\n",
    "#Инициализируем модель, fit, predict:\n",
    "lg_model_ds = LogisticRegression(solver = \"liblinear\")\n",
    "lg_model_ds.fit(train_sc, target_downsampled)\n",
    "predictions = lg_model_ds.predict(train_sc)\n",
    "target = target_downsampled\n",
    "\n",
    "print_metrics('Train with downsampling')"
   ]
  },
  {
   "cell_type": "markdown",
   "metadata": {},
   "source": [
    "### SMOTE"
   ]
  },
  {
   "cell_type": "code",
   "execution_count": 31,
   "metadata": {},
   "outputs": [],
   "source": [
    "smote=SMOTE(sampling_strategy='not minority',random_state=42)\n",
    "features_smote, target_smote=smote.fit_resample(features_train, target_train)"
   ]
  },
  {
   "cell_type": "markdown",
   "metadata": {},
   "source": [
    "**Decision Tree**"
   ]
  },
  {
   "cell_type": "code",
   "execution_count": 32,
   "metadata": {},
   "outputs": [
    {
     "name": "stdout",
     "output_type": "stream",
     "text": [
      "Train with SMOTE :\n",
      "-------------------------\n",
      "F1 Score  - : 0.591\n",
      "ROC-AUC   - : 0.722\n",
      "Accuracy  - : 0.863\n",
      "Precision - : 0.764\n",
      "Recall    - : 0.482\n",
      "-------------------------\n",
      "CPU times: user 79.4 ms, sys: 8.68 ms, total: 88 ms\n",
      "Wall time: 420 ms\n"
     ]
    }
   ],
   "source": [
    "%%time\n",
    "\n",
    "#Используем GridSearchCV для перебора гиперпараметров:\n",
    "dt_model_ds = DecisionTreeClassifier(random_state = 42)\n",
    "dt_GridSearch_sm = GridSearchCV(estimator = dt_model_ds,\n",
    "                             param_grid = dt_param,\n",
    "                             cv = 3,\n",
    "                             n_jobs = 4,\n",
    "                             scoring = 'f1')\n",
    "#fit и predict\n",
    "dt_GridSearch_sm.fit(features_smote, target_smote)\n",
    "predictions = dt_GridSearch_sm.predict(features_smote)\n",
    "target = target_smote\n",
    "\n",
    "print_metrics('Train with SMOTE')"
   ]
  },
  {
   "cell_type": "markdown",
   "metadata": {},
   "source": [
    "**Random Forest**"
   ]
  },
  {
   "cell_type": "code",
   "execution_count": 33,
   "metadata": {},
   "outputs": [
    {
     "name": "stdout",
     "output_type": "stream",
     "text": [
      "Train with SMOTE :\n",
      "-------------------------\n",
      "F1 Score  - : 0.749\n",
      "ROC-AUC   - : 0.808\n",
      "Accuracy  - : 0.913\n",
      "Precision - : 0.926\n",
      "Recall    - : 0.629\n",
      "-------------------------\n",
      "CPU times: user 4.19 s, sys: 56.9 ms, total: 4.25 s\n",
      "Wall time: 55.6 s\n"
     ]
    }
   ],
   "source": [
    "%%time\n",
    "\n",
    "#Используем RandomizedSearchCV для перебора гиперпараметров:\n",
    "rf_model_us = RandomForestClassifier(random_state = 42)\n",
    "rf_RandomGrid_sm = RandomizedSearchCV(estimator = rf_model_us,\n",
    "                                   param_distributions = rf_param,\n",
    "                                   random_state = 42,\n",
    "                                   cv = 3,\n",
    "                                   n_jobs = 4,\n",
    "                                   scoring = 'f1')\n",
    "#fit и predict\n",
    "rf_RandomGrid_sm.fit(features_smote, target_smote)\n",
    "predictions = rf_RandomGrid_sm.predict(features_smote)\n",
    "target = target_smote\n",
    "\n",
    "print_metrics('Train with SMOTE')"
   ]
  },
  {
   "cell_type": "markdown",
   "metadata": {},
   "source": [
    "**Logistic Regression**"
   ]
  },
  {
   "cell_type": "code",
   "execution_count": 34,
   "metadata": {},
   "outputs": [
    {
     "name": "stdout",
     "output_type": "stream",
     "text": [
      "Train with SMOTE :\n",
      "-------------------------\n",
      "F1 Score  - : 0.322\n",
      "ROC-AUC   - : 0.592\n",
      "Accuracy  - : 0.812\n",
      "Precision - : 0.618\n",
      "Recall    - : 0.218\n",
      "-------------------------\n",
      "CPU times: user 95.2 ms, sys: 95.4 ms, total: 191 ms\n",
      "Wall time: 190 ms\n"
     ]
    }
   ],
   "source": [
    "%%time\n",
    "\n",
    "#Применим маштабирование, так как модель логистической регрессии чувствительна к разным диапазонам данных.\n",
    "train_sc = sc.transform(features_smote)\n",
    "\n",
    "#Инициализируем модель, fit, predict:\n",
    "lg_model_sm = LogisticRegression(solver = \"liblinear\")\n",
    "lg_model_sm.fit(train_sc, target_smote)\n",
    "predictions = lg_model_sm.predict(train_sc)\n",
    "target = target_smote\n",
    "\n",
    "print_metrics('Train with SMOTE')"
   ]
  },
  {
   "cell_type": "markdown",
   "metadata": {},
   "source": [
    "### Вывод"
   ]
  },
  {
   "cell_type": "markdown",
   "metadata": {},
   "source": [
    "**Class weight**"
   ]
  },
  {
   "cell_type": "code",
   "execution_count": 35,
   "metadata": {},
   "outputs": [
    {
     "name": "stdout",
     "output_type": "stream",
     "text": [
      "Desicion Tree  Train balanced weight F1/ROC-AUC: 0.617 / 0.798\n",
      "Random Forest  Train balanced weight F1/ROC-AUC: 0.722 / 0.846\n",
      "Log Regression Train balanced weight F1/ROC-AUC: 0.341 / 0.501\n"
     ]
    }
   ],
   "source": [
    "models = (dt_GridSearch_bs,rf_RandomGrid_bs,lg_model_bs)\n",
    "names = (\"Desicion Tree \",\"Random Forest \",\"Log Regression\")\n",
    "\n",
    "for i in range(len(models)): \n",
    "    predictions = models[i].predict(features_train)\n",
    "    print(names[i],\n",
    "          \"Train balanced weight F1/ROC-AUC:\",\n",
    "          f1_score(target_train,predictions).round(3),\n",
    "          \"/\",\n",
    "          roc_auc_score(target_train,predictions).round(3))    "
   ]
  },
  {
   "cell_type": "markdown",
   "metadata": {},
   "source": [
    "**Upsampling**"
   ]
  },
  {
   "cell_type": "code",
   "execution_count": 36,
   "metadata": {},
   "outputs": [
    {
     "name": "stdout",
     "output_type": "stream",
     "text": [
      "Desicion Tree  Train with upsampling F1/ROC-AUC: 0.576 / 0.75\n",
      "Random Forest  Train with upsampling F1/ROC-AUC: 0.624 / 0.783\n",
      "Log Regression Train with upsampling F1/ROC-AUC: 0.342 / 0.501\n"
     ]
    }
   ],
   "source": [
    "models = (best_dt_model_us, best_model_rf_us,lg_model_us)\n",
    "names = (\"Desicion Tree \",\"Random Forest \",\"Log Regression\")\n",
    "\n",
    "for i in range(len(models)): \n",
    "    predictions = models[i].predict(features_valid)\n",
    "    print(names[i],\n",
    "          \"Train with upsampling F1/ROC-AUC:\",\n",
    "          f1_score(target_valid,predictions).round(3),\n",
    "          \"/\",\n",
    "          roc_auc_score(target_valid,predictions).round(3)) "
   ]
  },
  {
   "cell_type": "markdown",
   "metadata": {},
   "source": [
    "**Downsampling**"
   ]
  },
  {
   "cell_type": "code",
   "execution_count": 37,
   "metadata": {},
   "outputs": [
    {
     "name": "stdout",
     "output_type": "stream",
     "text": [
      "Desicion Tree  Train with downsampling F1/ROC-AUC: 0.569 / 0.768\n",
      "Random Forest  Train with downsampling F1/ROC-AUC: 0.608 / 0.79\n",
      "Log Regression Train with downsampling F1/ROC-AUC: 0.341 / 0.5\n"
     ]
    }
   ],
   "source": [
    "models = (best_dt_model_ds,best_model_rf_ds,lg_model_ds)\n",
    "names = (\"Desicion Tree \",\"Random Forest \",\"Log Regression\")\n",
    "\n",
    "for i in range(len(models)): \n",
    "    predictions = models[i].predict(features_valid)\n",
    "    print(names[i],\n",
    "          \"Train with downsampling F1/ROC-AUC:\",\n",
    "          f1_score(target_valid,predictions).round(3),\n",
    "          \"/\",\n",
    "          roc_auc_score(target_valid,predictions).round(3)) "
   ]
  },
  {
   "cell_type": "markdown",
   "metadata": {},
   "source": [
    "**SMOTE**"
   ]
  },
  {
   "cell_type": "code",
   "execution_count": 38,
   "metadata": {},
   "outputs": [
    {
     "name": "stdout",
     "output_type": "stream",
     "text": [
      "Desicion Tree  Train with SMOTE F1/ROC-AUC: 0.591 / 0.722\n",
      "Random Forest  Train with SMOTE F1/ROC-AUC: 0.749 / 0.808\n",
      "Log Regression Train with SMOTE F1/ROC-AUC: 0.341 / 0.501\n"
     ]
    }
   ],
   "source": [
    "models = (dt_GridSearch_sm,rf_RandomGrid_sm,lg_model_sm)\n",
    "names = (\"Desicion Tree \",\"Random Forest \",\"Log Regression\")\n",
    "\n",
    "for i in range(len(models)): \n",
    "    predictions = models[i].predict(features_smote)\n",
    "    print(names[i],\n",
    "          \"Train with SMOTE F1/ROC-AUC:\",\n",
    "          f1_score(target_smote,predictions).round(3),\n",
    "          \"/\",\n",
    "          roc_auc_score(target_smote,predictions).round(3)) "
   ]
  },
  {
   "cell_type": "markdown",
   "metadata": {},
   "source": [
    "- Все модели деревьев решений и случайного леса имеют высокую метрику F1 - более 0.59 на тренировочной выборке.\n",
    "- При испольщовании методов Upsampling и Downsampling скорее всего наблюдаем переобучение, так как мы не использовали кросс-валидацию при переборе гиперпараметров через цикл\n",
    "- Только модель логистической регрессии не набрала необходимые 0.59 метрики F1 "
   ]
  },
  {
   "cell_type": "markdown",
   "metadata": {},
   "source": [
    "## Тестирование модели"
   ]
  },
  {
   "cell_type": "markdown",
   "metadata": {},
   "source": [
    "**Initial models**"
   ]
  },
  {
   "cell_type": "code",
   "execution_count": 39,
   "metadata": {},
   "outputs": [
    {
     "name": "stdout",
     "output_type": "stream",
     "text": [
      "Desicion Tree  F1/ROC-AUC: 0.538 / 0.696\n",
      "Random Forest  F1/ROC-AUC: 0.587 / 0.718\n",
      "Cat Boost      F1/ROC-AUC: 0.612 / 0.733\n",
      "Log Regression F1/ROC-AUC: 0.332 / 0.5\n"
     ]
    }
   ],
   "source": [
    "models = (dt_GridSearch,rf_RandomGrid,model_cb,model_lg)\n",
    "names = (\"Desicion Tree \",\"Random Forest \",\"Cat Boost     \",\"Log Regression\")\n",
    "\n",
    "for i in range(len(models)): \n",
    "    predictions = models[i].predict(features_test)\n",
    "    print(names[i],\n",
    "          \"F1/ROC-AUC:\",\n",
    "          f1_score(target_test,predictions).round(3),\n",
    "          \"/\",\n",
    "          roc_auc_score(target_test,predictions).round(3))    "
   ]
  },
  {
   "cell_type": "markdown",
   "metadata": {},
   "source": [
    "**Class weight**"
   ]
  },
  {
   "cell_type": "code",
   "execution_count": 40,
   "metadata": {},
   "outputs": [
    {
     "name": "stdout",
     "output_type": "stream",
     "text": [
      "Desicion Tree  F1/ROC-AUC: 0.534 / 0.672\n",
      "Random Forest  F1/ROC-AUC: 0.638 / 0.752\n",
      "Log Regression F1/ROC-AUC: 0.332 / 0.528\n"
     ]
    }
   ],
   "source": [
    "models = (dt_GridSearch_bs,rf_RandomGrid_bs,lg_model_bs)\n",
    "names = (\"Desicion Tree \",\"Random Forest \",\"Log Regression\")\n",
    "\n",
    "for i in range(len(models)): \n",
    "    predictions = models[i].predict(features_test)\n",
    "    print(names[i],\n",
    "          \"F1/ROC-AUC:\",\n",
    "          f1_score(predictions,target_test).round(3),\n",
    "          \"/\",\n",
    "          roc_auc_score(predictions,target_test).round(3))    "
   ]
  },
  {
   "cell_type": "markdown",
   "metadata": {},
   "source": [
    "**Upsampling**"
   ]
  },
  {
   "cell_type": "code",
   "execution_count": 41,
   "metadata": {},
   "outputs": [
    {
     "name": "stdout",
     "output_type": "stream",
     "text": [
      "Desicion Tree  F1/ROC-AUC: 0.596 / 0.717\n",
      "Random Forest  F1/ROC-AUC: 0.603 / 0.724\n",
      "Log Regression F1/ROC-AUC: 0.332 / 0.599\n"
     ]
    }
   ],
   "source": [
    "models = (best_dt_model_us, best_model_rf_us,lg_model_us)\n",
    "names = (\"Desicion Tree \",\"Random Forest \",\"Log Regression\")\n",
    "\n",
    "for i in range(len(models)): \n",
    "    predictions = models[i].predict(features_test)\n",
    "    print(names[i],\n",
    "          \"F1/ROC-AUC:\",\n",
    "          f1_score(predictions,target_test).round(3),\n",
    "          \"/\",\n",
    "          roc_auc_score(predictions,target_test).round(3)) "
   ]
  },
  {
   "cell_type": "markdown",
   "metadata": {},
   "source": [
    "**Downsampling**"
   ]
  },
  {
   "cell_type": "code",
   "execution_count": 42,
   "metadata": {},
   "outputs": [
    {
     "name": "stdout",
     "output_type": "stream",
     "text": [
      "Desicion Tree  F1/ROC-AUC: 0.554 / 0.68\n",
      "Random Forest  F1/ROC-AUC: 0.583 / 0.701\n",
      "Log Regression F1/ROC-AUC: 0.332 / 0.547\n"
     ]
    }
   ],
   "source": [
    "models = (best_dt_model_ds,best_model_rf_ds,lg_model_ds)\n",
    "names = (\"Desicion Tree \",\"Random Forest \",\"Log Regression\")\n",
    "\n",
    "for i in range(len(models)): \n",
    "    predictions = models[i].predict(features_test)\n",
    "    print(names[i],\n",
    "          \"F1/ROC-AUC:\",\n",
    "          f1_score(predictions,target_test).round(3),\n",
    "          \"/\",\n",
    "          roc_auc_score(predictions,target_test).round(3)) "
   ]
  },
  {
   "cell_type": "markdown",
   "metadata": {},
   "source": [
    "**SMOTE**"
   ]
  },
  {
   "cell_type": "code",
   "execution_count": 43,
   "metadata": {},
   "outputs": [
    {
     "name": "stdout",
     "output_type": "stream",
     "text": [
      "Desicion Tree  F1/ROC-AUC: 0.538 / 0.784\n",
      "Random Forest  F1/ROC-AUC: 0.589 / 0.831\n",
      "Log Regression F1/ROC-AUC: 0.332 / 0.528\n"
     ]
    }
   ],
   "source": [
    "models = (dt_GridSearch_sm,rf_RandomGrid_sm,lg_model_sm)\n",
    "names = (\"Desicion Tree \",\"Random Forest \",\"Log Regression\")\n",
    "\n",
    "for i in range(len(models)): \n",
    "    predictions = models[i].predict(features_test)\n",
    "    print(names[i],\n",
    "          \"F1/ROC-AUC:\",\n",
    "          f1_score(predictions,target_test).round(3),\n",
    "          \"/\",\n",
    "          roc_auc_score(predictions,target_test).round(3)) "
   ]
  },
  {
   "cell_type": "markdown",
   "metadata": {},
   "source": [
    "**ROC кривая лучшей модели**"
   ]
  },
  {
   "cell_type": "code",
   "execution_count": 44,
   "metadata": {},
   "outputs": [
    {
     "data": {
      "image/png": "[encoded data removed]",
      "text/plain": [
       "<Figure size 720x720 with 1 Axes>"
      ]
     },
     "metadata": {
      "needs_background": "light"
     },
     "output_type": "display_data"
    }
   ],
   "source": [
    "probabilities_test = rf_RandomGrid_sm.predict_proba(features_test)\n",
    "probabilities_one_test = probabilities_test[:, 1]\n",
    "\n",
    "fpr, tpr, thresholds = roc_curve(target_test, probabilities_one_test) \n",
    "\n",
    "plt\n",
    "plt.figure(figsize=(10,10))\n",
    "plt.plot(fpr, tpr)\n",
    "plt.plot([0, 1], [0, 1], linestyle='--')\n",
    "plt.xlim([0.0, 1.0])\n",
    "plt.ylim([0.0, 1.0])\n",
    "plt.xlabel('False Positive Rate')\n",
    "plt.ylabel('True Positive Rate')\n",
    "plt.title('ROC-кривая')\n",
    "plt.show() "
   ]
  },
  {
   "cell_type": "markdown",
   "metadata": {},
   "source": [
    "## Вывод\n",
    "\n",
    "### Прошли отметку 0.59 F1:\n",
    "\n",
    "Модели без корректировки баланса классов:\n",
    "- **Cat Boost 0.612**\n",
    "\n",
    "С корректировкой баланса классов:\n",
    "- **Random Forest 0.638** (class_weight)\n",
    "\n",
    "\n",
    "### Выбор модели\n",
    "\n",
    "Практически на всех этапах и при разных балансах классов, лучше всего показала себя модель **Random Forest**, второе место - дерево решений (Catboost - не считаем), модель логистической регрессии на этой выборке нам совсем не подходит\n",
    "\n",
    "### Борьба с дисбалансом классов\n",
    "\n",
    "Для борьбы с дисбалансом классов лучше всего подходит метод class weight = balanced \n",
    "- Random Forest with class weight = balanced F1 0.638 / ROC 0.752\n",
    "\n",
    "Методы down и up sampling - склонны к переобучению (F1 и ROC 0.624 и 0.749 на тренировочной выборке)\n",
    "- Random Forest with upsampling = F1  0.624 / ROC 0.783\n",
    "- Random Forest with downsampling = F1 0.583 / ROC 0.701\n",
    "\n",
    "Модель SMOTE вполне адекватна\n",
    "- Random Forest Почти набрал необходимый F1 score (0.589) на тестовой выборке и лучший результат по ROC-AUC 0.831\n",
    "\n",
    "\n",
    "### Итог\n",
    "Для прогноза, уйдёт клиент из банка в ближайшее время или нет я бы использовал модель Random Forest с балансированными классами, случайным перебором гиперпараметров и кросс-валидацией\n"
   ]
  }
 ],
 "metadata": {
  "kernelspec": {
   "display_name": "Python 3",
   "language": "python",
   "name": "python3"
  },
  "language_info": {
   "codemirror_mode": {
    "name": "ipython",
    "version": 3
   },
   "file_extension": ".py",
   "mimetype": "text/x-python",
   "name": "python",
   "nbconvert_exporter": "python",
   "pygments_lexer": "ipython3",
   "version": "3.7.8"
  },
  "toc": {
   "base_numbering": 1,
   "nav_menu": {},
   "number_sections": true,
   "sideBar": true,
   "skip_h1_title": true,
   "title_cell": "Содержание",
   "title_sidebar": "Contents",
   "toc_cell": true,
   "toc_position": {
    "height": "calc(100% - 180px)",
    "left": "10px",
    "top": "150px",
    "width": "420px"
   },
   "toc_section_display": true,
   "toc_window_display": true
  }
 },
 "nbformat": 4,
 "nbformat_minor": 2
}
